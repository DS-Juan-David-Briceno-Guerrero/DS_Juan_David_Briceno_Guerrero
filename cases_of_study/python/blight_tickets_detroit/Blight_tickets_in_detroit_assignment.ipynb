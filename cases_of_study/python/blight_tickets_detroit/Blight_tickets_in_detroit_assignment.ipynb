{
 "cells": [
  {
   "cell_type": "markdown",
   "metadata": {},
   "source": [
    "## Understanding and Predicting Property Maintenance Fines\n",
    "\n",
    "This assignment is based on a data challenge from the Michigan Data Science Team ([MDST](http://midas.umich.edu/mdst/)). \n",
    "\n",
    "The Michigan Data Science Team ([MDST](http://midas.umich.edu/mdst/)) and the Michigan Student Symposium for Interdisciplinary Statistical Sciences ([MSSISS](https://sites.lsa.umich.edu/mssiss/)) have partnered with the City of Detroit to help solve one of the most pressing problems facing Detroit - blight. [Blight violations](http://www.detroitmi.gov/How-Do-I/Report/Blight-Complaint-FAQs) are issued by the city to individuals who allow their properties to remain in a deteriorated condition. Every year, the city of Detroit issues millions of dollars in fines to residents and every year, many of these fines remain unpaid. Enforcing unpaid blight fines is a costly and tedious process, so the city wants to know: how can we increase blight ticket compliance?\n",
    "\n",
    "The first step in answering this question is understanding when and why a resident might fail to comply with a blight ticket. This is where predictive modeling comes in. For this assignment, your task is to predict whether a given blight ticket will be paid on time.\n",
    "\n",
    "All data for this assignment has been provided to us through the [Detroit Open Data Portal](https://data.detroitmi.gov/)\n",
    "\n",
    "* [Building Permits](https://data.detroitmi.gov/Property-Parcels/Building-Permits/xw2a-a7tf)\n",
    "* [Trades Permits](https://data.detroitmi.gov/Property-Parcels/Trades-Permits/635b-dsgv)\n",
    "* [Improve Detroit: Submitted Issues](https://data.detroitmi.gov/Government/Improve-Detroit-Submitted-Issues/fwz3-w3yn)\n",
    "* [DPD: Citizen Complaints](https://data.detroitmi.gov/Public-Safety/DPD-Citizen-Complaints-2016/kahe-efs3)\n",
    "* [Parcel Map](https://data.detroitmi.gov/Property-Parcels/Parcel-Map/fxkw-udwf)\n",
    "\n",
    "___\n",
    "\n",
    "There are two data files to train and validate your model: train.csv and test.csv. Each row in these two files corresponds to a single blight ticket, and includes information about when, why, and to whom each ticket was issued. The target variable is compliance, which is True if the ticket was paid early, on time, or within one month of the hearing data, False if the ticket was paid after the hearing date or not at all, and Null if the violator was found not responsible. Compliance, as well as a handful of other variables that will not be available at test-time, are only included in train.csv.\n",
    "\n",
    "Note: All tickets where the violators were found not responsible are not considered during evaluation. They are included in the training set as an additional source of data for visualization, and to enable unsupervised and semi-supervised approaches. However, they are not included in the test set.\n",
    "\n",
    "<br>\n",
    "\n",
    "**File descriptions** (Use only this data for training your model!)\n",
    "\n",
    "    train.csv - the training set (all tickets issued 2004-2011)\n",
    "    test.csv - the test set (all tickets issued 2012-2016) \n",
    "    Note: misspelled addresses may be incorrectly geolocated.\n",
    "\n",
    "<br>\n",
    "\n",
    "**Data fields**\n",
    "\n",
    "train.csv & test.csv\n",
    "\n",
    "    ticket_id - unique identifier for tickets\n",
    "    agency_name - Agency that issued the ticket\n",
    "    inspector_name - Name of inspector that issued the ticket\n",
    "    violator_name - Name of the person/organization that the ticket was issued to\n",
    "    violation_street_number, violation_street_name, violation_zip_code - Address where the violation occurred\n",
    "    mailing_address_str_number, mailing_address_str_name, city, state, zip_code, non_us_str_code, country - Mailing address of the violator\n",
    "    ticket_issued_date - Date and time the ticket was issued\n",
    "    hearing_date - Date and time the violator's hearing was scheduled\n",
    "    violation_code, violation_description - Type of violation\n",
    "    disposition - Judgment and judgement type\n",
    "    fine_amount - Violation fine amount, excluding fees\n",
    "    admin_fee - 20dollars fee assigned to responsible judgments\n",
    "    state_fee - 10dollars fee assigned to responsible judgments\n",
    "    late_fee - 10% fee assigned to responsible judgments\n",
    "    discount_amount - discount applied, if any\n",
    "    clean_up_cost - DPW clean-up or graffiti removal cost\n",
    "    judgment_amount - Sum of all fines and fees\n",
    "    grafitti_status - Flag for graffiti violations\n",
    "    \n",
    "train.csv only\n",
    "\n",
    "    payment_amount - Amount paid, if any\n",
    "    payment_date - Date payment was made, if it was received\n",
    "    payment_status - Current payment status as of Feb 1 2017\n",
    "    balance_due - Fines and fees still owed\n",
    "    collection_status - Flag for payments in collections\n",
    "    compliance [target variable for prediction] \n",
    "     Null = Not responsible\n",
    "     0 = Responsible, non-compliant\n",
    "     1 = Responsible, compliant\n",
    "    compliance_detail - More information on why each ticket was marked compliant or non-compliant\n",
    "\n",
    "\n",
    "___\n",
    "\n",
    "## Objective\n",
    "\n",
    "For this assignment, create a function that trains a model to predict blight ticket compliance in Detroit using `readonly/train.csv`. Using this model, return a series of length 61001 with the data being the probability that each corresponding ticket from `readonly/test.csv` will be paid, and the index being the ticket_id.\n",
    "\n",
    "Example:\n",
    "\n",
    "    ticket_id\n",
    "       284932    0.531842\n",
    "       285362    0.401958\n",
    "       285361    0.105928\n",
    "       285338    0.018572\n",
    "                 ...\n",
    "       376499    0.208567\n",
    "       376500    0.818759\n",
    "       369851    0.018528\n",
    "       Name: compliance, dtype: float32"
   ]
  },
  {
   "cell_type": "code",
   "execution_count": 1,
   "metadata": {
    "collapsed": false,
    "jupyter": {
     "outputs_hidden": false
    }
   },
   "outputs": [],
   "source": [
    "#Import the required libraries.\n",
    "import pandas as pd\n",
    "import numpy as np\n",
    "from sklearn.model_selection import GridSearchCV\n",
    "from sklearn.pipeline import Pipeline\n",
    "from sklearn.preprocessing import StandardScaler\n",
    "from sklearn.linear_model import LogisticRegression\n",
    "from sklearn.preprocessing import OneHotEncoder\n",
    "from sklearn import preprocessing\n",
    "from sklearn.pipeline import Pipeline\n",
    "from sklearn.datasets import make_classification\n",
    "from sklearn.preprocessing import MinMaxScaler\n",
    "from sklearn.ensemble import RandomForestClassifier\n",
    "from sklearn.model_selection import train_test_split\n",
    "from sklearn.metrics import roc_auc_score\n",
    "from sklearn.feature_selection import mutual_info_regression\n",
    "from sklearn.feature_selection import SelectKBest\n",
    "from sklearn.feature_selection import mutual_info_classif\n",
    "from datetime import datetime\n",
    "from dateutil import relativedelta\n",
    "from sklearn.model_selection import RandomizedSearchCV\n",
    "from sklearn.svm import SVC\n",
    "from sklearn.ensemble import GradientBoostingClassifier \n",
    "import seaborn as sns\n",
    "from matplotlib import pyplot as plt\n",
    "%run -i '/home/juan-david/Documents/data_science/travail_personnel/machine_learning_michigan_university/week_4/assignment_4/assignment_helper_functions.py'"
   ]
  },
  {
   "cell_type": "code",
   "execution_count": 2,
   "metadata": {
    "collapsed": false,
    "jupyter": {
     "outputs_hidden": false
    }
   },
   "outputs": [],
   "source": [
    "#Import the dataframes.\n",
    "blight_df_train = pd.read_csv('train.csv', engine='python')\n",
    "blight_df_test = pd.read_csv('test.csv', engine='python')"
   ]
  },
  {
   "cell_type": "code",
   "execution_count": 3,
   "metadata": {
    "collapsed": false,
    "jupyter": {
     "outputs_hidden": false
    }
   },
   "outputs": [
    {
     "name": "stderr",
     "output_type": "stream",
     "text": [
      "/home/juan-david/.local/lib/python3.7/site-packages/pandas/core/indexes/base.py:4111: FutureWarning: Using a non-tuple sequence for multidimensional indexing is deprecated; use `arr[tuple(seq)]` instead of `arr[seq]`. In the future this will be interpreted as an array index, `arr[np.array(seq)]`, which will result either in an error or a different result.\n",
      "  result = getitem(key)\n"
     ]
    },
    {
     "name": "stdout",
     "output_type": "stream",
     "text": [
      "(159880,)\n",
      "(159880, 27)\n",
      "(61001, 27)\n",
      "\n",
      "0     284932\n",
      "1     285362\n",
      "2     285361\n",
      "3     285338\n",
      "4     285346\n",
      "5     285345\n",
      "6     285347\n",
      "7     285342\n",
      "8     285530\n",
      "9     284989\n",
      "10    285344\n",
      "11    285343\n",
      "12    285340\n",
      "13    285341\n",
      "14    285349\n",
      "Name: ticket_id, dtype: int64\n"
     ]
    }
   ],
   "source": [
    "#Avoiding null values in the response label.\n",
    "\n",
    "#Counting the proportion of nan values in the df.\n",
    "y = blight_df_train['compliance']\n",
    "y.columns = ['compliance']\n",
    "\n",
    "#Calculate how many rows in the target variable are nan.\n",
    "nan_percentage = y.isnull().sum()/y.shape[0]\n",
    "\n",
    "#Erease rows having nan values in target.\n",
    "index_nan = y.index[y.apply(np.isnan)].tolist()\n",
    "y = y.drop(y.index[[index_nan]])\n",
    "y = y.reset_index(drop=True)\n",
    "\n",
    "#Assign to X matrixes the values obtained from the datasets.\n",
    "blight_df_train = blight_df_train.drop(blight_df_train.index[[index_nan]])\n",
    "X = blight_df_train\n",
    "X = X.reset_index(drop=True)\n",
    "features = ['ticket_id','agency_name','inspector_name','violator_name','violation_street_number','violation_street_name','violation_zip_code','mailing_address_str_number','mailing_address_str_name','city','state','zip_code','non_us_str_code','country','ticket_issued_date','hearing_date' ,'violation_code','violation_description','disposition','fine_amount','admin_fee','state_fee','late_fee','discount_amount','clean_up_cost','judgment_amount','grafitti_status']  \n",
    "X = X[features]\n",
    "\n",
    "X_test = blight_df_test\n",
    "X_test = X_test[features]\n",
    "\n",
    "print(y.shape)\n",
    "print(X.shape)\n",
    "print(X_test.shape)\n",
    "print(\"\")\n",
    "print(X_test['ticket_id'].head(15))"
   ]
  },
  {
   "cell_type": "markdown",
   "metadata": {},
   "source": [
    "<h3>1. Test set adjustment</h3>\n",
    "<p>Guaranteeing the test set meet all the requirements for the evaluation phase.</p>"
   ]
  },
  {
   "cell_type": "code",
   "execution_count": 4,
   "metadata": {},
   "outputs": [
    {
     "name": "stdout",
     "output_type": "stream",
     "text": [
      "160335\n",
      "0\n"
     ]
    }
   ],
   "source": [
    "number_of_nulls = X_test.isnull().sum().sum()\n",
    "print(number_of_nulls)\n",
    "\n",
    "X_test = adjust_X_test(X_test)\n",
    "number_of_nulls = X_test.isnull().sum().sum()\n",
    "print(number_of_nulls)"
   ]
  },
  {
   "cell_type": "code",
   "execution_count": 5,
   "metadata": {
    "collapsed": false,
    "jupyter": {
     "outputs_hidden": false
    }
   },
   "outputs": [
    {
     "name": "stdout",
     "output_type": "stream",
     "text": [
      "(61001, 27)\n",
      "0    284932\n",
      "1    285362\n",
      "2    285361\n",
      "3    285338\n",
      "4    285346\n",
      "5    285345\n",
      "6    285347\n",
      "7    285342\n",
      "8    285530\n",
      "9    284989\n",
      "Name: ticket_id, dtype: int64\n"
     ]
    }
   ],
   "source": [
    "print(X_test.shape)\n",
    "print(X_test['ticket_id'].head(10))"
   ]
  },
  {
   "cell_type": "markdown",
   "metadata": {},
   "source": [
    "<h3>2. Data preparation</h3>\n",
    "<p>Prepare the datasets X, y, and X_test to resolve the property maintenance fines problem in the city of Detroit, the largest in the state of Michigan, which location in the border between US and Canada.</p>"
   ]
  },
  {
   "cell_type": "code",
   "execution_count": 6,
   "metadata": {
    "collapsed": false,
    "jupyter": {
     "outputs_hidden": false
    }
   },
   "outputs": [
    {
     "name": "stdout",
     "output_type": "stream",
     "text": [
      "(159880, 27)\n",
      "(159880,)\n",
      "(61001, 27)\n"
     ]
    }
   ],
   "source": [
    "X, ticket_issued_date, index_ticket_issued_date = delete_rows_ticket_issued_date_is_na(X)\n",
    "\n",
    "#Update y.\n",
    "y = y[y.index.isin(index_ticket_issued_date)]\n",
    "y = y.reset_index(drop=True)\n",
    "#Update X-test\n",
    "X_test, ticket_issued_date_test, index_ticket_issued_date_test = delete_rows_ticket_issued_date_is_na(X_test)\n",
    "\n",
    "print(X.shape)\n",
    "print(y.shape)\n",
    "print(X_test.shape)"
   ]
  },
  {
   "cell_type": "code",
   "execution_count": 7,
   "metadata": {
    "collapsed": false,
    "jupyter": {
     "outputs_hidden": false
    }
   },
   "outputs": [
    {
     "name": "stdout",
     "output_type": "stream",
     "text": [
      "(159653, 27)\n",
      "(159653,)\n",
      "(61001, 27)\n"
     ]
    }
   ],
   "source": [
    "X, hearing_date, index_hearing_date = delete_rows_hearing_date_is_na(X)\n",
    "\n",
    "#Update y.\n",
    "y = y[y.index.isin(index_hearing_date)]\n",
    "y = y.reset_index(drop=True)\n",
    "\n",
    "#Update X, and X-test\n",
    "X_test, hearing_date_test, index_hearing_date_test = delete_rows_hearing_date_is_na(X_test)\n",
    "\n",
    "print(X.shape)\n",
    "print(y.shape)\n",
    "print(X_test.shape)"
   ]
  },
  {
   "cell_type": "code",
   "execution_count": 8,
   "metadata": {
    "collapsed": false,
    "jupyter": {
     "outputs_hidden": false
    }
   },
   "outputs": [
    {
     "name": "stdout",
     "output_type": "stream",
     "text": [
      "(159653, 28)\n",
      "(159653,)\n",
      "(61001, 28)\n"
     ]
    }
   ],
   "source": [
    "#Update  X-test\n",
    "X = diff_months_tiket_issued_and_hearing_date(X)\n",
    "\n",
    "#Calculate the n_months column for the X_test sample.\n",
    "X_test = diff_months_tiket_issued_and_hearing_date(X_test)\n",
    "\n",
    "print(X.shape)\n",
    "print(y.shape)\n",
    "print(X_test.shape)"
   ]
  },
  {
   "cell_type": "code",
   "execution_count": 9,
   "metadata": {
    "collapsed": false,
    "jupyter": {
     "outputs_hidden": false
    }
   },
   "outputs": [
    {
     "name": "stdout",
     "output_type": "stream",
     "text": [
      "(159613, 28)\n",
      "(159613,)\n",
      "(61001, 28)\n"
     ]
    }
   ],
   "source": [
    "#Update X.\n",
    "X, index_correct_rows = df_correct_issued_date_later_than_hearing_date(X, False)\n",
    "\n",
    "#Update y.\n",
    "y = y[y.index.isin(index_correct_rows)]\n",
    "y = y.reset_index(drop=True)\n",
    "\n",
    "#Update X-test\n",
    "X_test = df_correct_issued_date_later_than_hearing_date(X_test, True)\n",
    "\n",
    "print(X.shape)\n",
    "print(y.shape)\n",
    "print(X_test.shape)"
   ]
  },
  {
   "cell_type": "code",
   "execution_count": 10,
   "metadata": {
    "collapsed": false,
    "jupyter": {
     "outputs_hidden": false
    }
   },
   "outputs": [
    {
     "name": "stdout",
     "output_type": "stream",
     "text": [
      "(159529, 28)\n",
      "(159529,)\n",
      "(61001, 28)\n",
      "\n",
      "(159529,)\n",
      "(61001,)\n",
      "(159529,)\n",
      "(61001,)\n"
     ]
    }
   ],
   "source": [
    "X, state, index_state = delete_rows_state_is_na(X)\n",
    "\n",
    "#Update y\n",
    "y = y[y.index.isin(index_state)]\n",
    "y = y.reset_index(drop=True)\n",
    "\n",
    "#Update hearing_date\n",
    "hearing_date = hearing_date[hearing_date.index.isin(index_state)]\n",
    "hearing_date = hearing_date.reset_index(drop=True)\n",
    "\n",
    "#X_test\n",
    "X_test, state_test, index_state_test = delete_rows_state_is_na(X_test)\n",
    "\n",
    "#hearing_date_test\n",
    "hearing_date_test = hearing_date_test[hearing_date_test.index.isin(index_state_test)]\n",
    "hearing_date_test = hearing_date_test.reset_index(drop=True)\n",
    "\n",
    "print(X.shape)\n",
    "print(y.shape)\n",
    "print(X_test.shape)\n",
    "\n",
    "print(\"\")\n",
    "print(hearing_date.shape)\n",
    "print(hearing_date_test.shape)\n",
    "print(state.shape)\n",
    "print(state_test.shape)"
   ]
  },
  {
   "cell_type": "code",
   "execution_count": 11,
   "metadata": {
    "collapsed": false,
    "jupyter": {
     "outputs_hidden": false
    }
   },
   "outputs": [
    {
     "name": "stdout",
     "output_type": "stream",
     "text": [
      "(159529, 28)\n",
      "(159529,)\n",
      "(61001, 28)\n",
      "\n",
      "(159529,)\n",
      "(61001,)\n",
      "(159529,)\n",
      "(61001,)\n",
      "(159529,)\n",
      "(61001,)\n"
     ]
    }
   ],
   "source": [
    "X, violation_code, index_violation_code = delete_rows_violation_code_is_na(X)\n",
    "\n",
    "#Update y.\n",
    "y = y[y.index.isin(index_violation_code)]\n",
    "y = y.reset_index(drop=True)\n",
    "\n",
    "#Update X_test.\n",
    "X_test, violation_code_test, index_violation_code_test = delete_rows_violation_code_is_na(X_test)\n",
    "\n",
    "#Update hearing_state\n",
    "hearing_date = hearing_date[hearing_date.index.isin(index_violation_code)]\n",
    "hearing_date = hearing_date.reset_index(drop=True)\n",
    "\n",
    "hearing_date_test = hearing_date_test[hearing_date_test.index.isin(index_violation_code)]\n",
    "hearing_date_test = hearing_date_test.reset_index(drop=True)\n",
    "\n",
    "#Update state.\n",
    "state = state[state.index.isin(index_violation_code)]\n",
    "state = state.reset_index(drop=True)\n",
    "\n",
    "print(X.shape)\n",
    "print(y.shape)\n",
    "print(X_test.shape)\n",
    "\n",
    "print(\"\")\n",
    "print(hearing_date.shape)\n",
    "print(hearing_date_test.shape)\n",
    "print(state.shape)\n",
    "print(state_test.shape)\n",
    "print(violation_code.shape)\n",
    "print(violation_code_test.shape)"
   ]
  },
  {
   "cell_type": "code",
   "execution_count": 12,
   "metadata": {
    "collapsed": false,
    "jupyter": {
     "outputs_hidden": false
    }
   },
   "outputs": [
    {
     "name": "stdout",
     "output_type": "stream",
     "text": [
      "ticket_id                         int64\n",
      "agency_name                      object\n",
      "inspector_name                   object\n",
      "violator_name                    object\n",
      "violation_street_number         float64\n",
      "violation_street_name            object\n",
      "mailing_address_str_number      float64\n",
      "mailing_address_str_name         object\n",
      "city                             object\n",
      "state                            object\n",
      "zip_code                         object\n",
      "non_us_str_code                  object\n",
      "country                          object\n",
      "ticket_issued_date               object\n",
      "hearing_date                     object\n",
      "violation_code                   object\n",
      "violation_description            object\n",
      "disposition                      object\n",
      "fine_amount                     float64\n",
      "admin_fee                       float64\n",
      "state_fee                       float64\n",
      "late_fee                        float64\n",
      "discount_amount                 float64\n",
      "clean_up_cost                   float64\n",
      "judgment_amount                 float64\n",
      "n_months_diff_issued_hearing      int64\n",
      "dtype: object\n",
      "\n",
      "(159529, 26)\n",
      "(159529,)\n",
      "(61001, 26)\n"
     ]
    }
   ],
   "source": [
    "#Update X.\n",
    "X= drop_nan_columns(X)\n",
    "\n",
    "#Update X_test.\n",
    "features = X.columns\n",
    "X_test = X_test[features]\n",
    "\n",
    "print(X.dtypes)\n",
    "\n",
    "print(\"\")\n",
    "print(X.shape)\n",
    "print(y.shape)\n",
    "print(X_test.shape)"
   ]
  },
  {
   "cell_type": "code",
   "execution_count": 13,
   "metadata": {
    "collapsed": false,
    "jupyter": {
     "outputs_hidden": false
    }
   },
   "outputs": [
    {
     "name": "stdout",
     "output_type": "stream",
     "text": [
      "ticket_id                         int64\n",
      "agency_name                      object\n",
      "inspector_name                   object\n",
      "violator_name                    object\n",
      "violation_street_name            object\n",
      "mailing_address_str_name         object\n",
      "city                             object\n",
      "state                            object\n",
      "zip_code                         object\n",
      "country                          object\n",
      "ticket_issued_date               object\n",
      "hearing_date                     object\n",
      "violation_code                   object\n",
      "violation_description            object\n",
      "disposition                      object\n",
      "fine_amount                     float64\n",
      "admin_fee                       float64\n",
      "state_fee                       float64\n",
      "late_fee                        float64\n",
      "discount_amount                 float64\n",
      "clean_up_cost                   float64\n",
      "judgment_amount                 float64\n",
      "n_months_diff_issued_hearing      int64\n",
      "dtype: object\n",
      "\n",
      "(159529, 23)\n",
      "(159529,)\n",
      "(61001, 23)\n"
     ]
    }
   ],
   "source": [
    "columns_to_delete = ['violation_street_number','non_us_str_code','mailing_address_str_number']\n",
    "\n",
    "#Update X.\n",
    "X = drop_not_relevant_column(X,columns_to_delete)\n",
    "\n",
    "#Update X_test.\n",
    "features = X.columns\n",
    "X_test = X_test[features]\n",
    "\n",
    "print(X.dtypes)\n",
    "print(\"\")\n",
    "print(X.shape)\n",
    "print(y.shape)\n",
    "print(X_test.shape)"
   ]
  },
  {
   "cell_type": "code",
   "execution_count": 14,
   "metadata": {
    "collapsed": false,
    "jupyter": {
     "outputs_hidden": false
    }
   },
   "outputs": [
    {
     "name": "stdout",
     "output_type": "stream",
     "text": [
      "(20, 1)\n",
      "                   ratio_best_payed\n",
      "inspector_name                     \n",
      "Thomas, Duane                   1.0\n",
      "Coleman, Lanetha                1.0\n",
      "Hischke, William                1.0\n",
      "BENNETT, MARGARET               0.5\n",
      "Long, Phil                      0.4\n",
      "['Thomas, Duane', 'Coleman, Lanetha', 'Hischke, William', 'BENNETT, MARGARET', 'Long, Phil', 'Pickens, William', 'Frinkley, Elaine', 'Madrigal, Michael', 'Wilcox, Valerie', 'Gibson, Christopher', 'Brinkley, Kevin', 'Crowder, Michael', 'Johnson, Clifford', 'Smith, Melvin', 'Anderson, Trevis', 'Shah , Kumarpal', 'Copty, Anton', 'Zawislak, Norbet', 'Holbrook, Kevin', 'Fulks, Matthew g']\n",
      "20\n"
     ]
    }
   ],
   "source": [
    "ratio_best_payed_inspector_name, list_names_ratio_best_inspector_name = find_best_ratio_of_payment_column(X['inspector_name'], y, \"inspector_name\", \"compliance\", 20)\n",
    "\n",
    "print(ratio_best_payed_inspector_name.shape)\n",
    "print(ratio_best_payed_inspector_name.head(5))\n",
    "\n",
    "print(list_names_ratio_best_inspector_name)\n",
    "print(len(list_names_ratio_best_inspector_name))"
   ]
  },
  {
   "cell_type": "code",
   "execution_count": 15,
   "metadata": {
    "collapsed": false,
    "jupyter": {
     "outputs_hidden": false
    }
   },
   "outputs": [
    {
     "name": "stdout",
     "output_type": "stream",
     "text": [
      "                  n_tickets\n",
      "inspector_name             \n",
      "Morris, John          11604\n",
      "Samaan, Neil J         8699\n",
      "O'Neal, Claude         8067\n",
      "Steele, Jonathan       6957\n",
      "Devaney, John          6837\n",
      "5\n"
     ]
    }
   ],
   "source": [
    "df_frequents_inspector_name, list_names_inspector_name = most_frequent_values_in_feature(X['inspector_name'], y , 5)\n",
    "\n",
    "print(df_frequents_inspector_name)\n",
    "print(len(list_names_inspector_name))"
   ]
  },
  {
   "cell_type": "code",
   "execution_count": 16,
   "metadata": {
    "collapsed": false,
    "jupyter": {
     "outputs_hidden": false
    }
   },
   "outputs": [
    {
     "name": "stdout",
     "output_type": "stream",
     "text": [
      "(159529, 27)\n",
      "(159529,)\n",
      "(61001, 27)\n"
     ]
    }
   ],
   "source": [
    "X = encode_dummy_given_list(X,list_names_inspector_name,\"inspector_name\")\n",
    "\n",
    "#Update X_test\n",
    "X_test = encode_dummy_given_list(X_test,list_names_inspector_name,\"inspector_name\")\n",
    "\n",
    "print(X.shape)\n",
    "print(y.shape)\n",
    "print(X_test.shape)"
   ]
  },
  {
   "cell_type": "code",
   "execution_count": 17,
   "metadata": {
    "collapsed": false,
    "jupyter": {
     "outputs_hidden": false
    }
   },
   "outputs": [
    {
     "name": "stdout",
     "output_type": "stream",
     "text": [
      "(5, 1)\n",
      "                      ratio_best_payed\n",
      "violation_code                        \n",
      "61-47.0000/47.0108                 1.0\n",
      "9-1-83 - (Building 5               0.5\n",
      "19840901                           0.5\n",
      "22-2-87(a)                         0.5\n",
      "9-1-333                            0.5\n",
      "\n",
      "['61-47.0000/47.0108', '9-1-83 - (Building 5', '19840901', '22-2-87(a)', '9-1-333']\n",
      "5\n"
     ]
    }
   ],
   "source": [
    "#Calculate best ratio payments for violation code.\n",
    "ratio_best_payed_violation_code, list_names_ratio_best_violation_code = find_best_ratio_of_payment_column(violation_code, y, \"violation_code\", \"compliance\", 5)\n",
    "\n",
    "print(ratio_best_payed_violation_code.shape)\n",
    "print(ratio_best_payed_violation_code.head(5))\n",
    "print(\"\")\n",
    "print(list_names_ratio_best_violation_code)\n",
    "print(len(list_names_ratio_best_violation_code))"
   ]
  },
  {
   "cell_type": "code",
   "execution_count": 18,
   "metadata": {
    "collapsed": false,
    "jupyter": {
     "outputs_hidden": false
    }
   },
   "outputs": [
    {
     "name": "stdout",
     "output_type": "stream",
     "text": [
      "                n_tickets\n",
      "violation_code           \n",
      "9-1-36(a)           64335\n",
      "9-1-81(a)           23133\n",
      "22-2-88             18989\n",
      "9-1-104             16871\n",
      "22-2-88(b)           4821\n",
      "5\n"
     ]
    }
   ],
   "source": [
    "#Calculate the most frequent values for the column violation_code.\n",
    "df_frequents_violation_code, list_names_violation_code = most_frequent_values_in_feature(violation_code, y , 5)\n",
    "\n",
    "print(df_frequents_violation_code)\n",
    "print(len(list_names_violation_code))"
   ]
  },
  {
   "cell_type": "code",
   "execution_count": 19,
   "metadata": {
    "collapsed": false,
    "jupyter": {
     "outputs_hidden": false
    }
   },
   "outputs": [
    {
     "name": "stdout",
     "output_type": "stream",
     "text": [
      "(159529, 31)\n",
      "(159529,)\n",
      "(61001, 31)\n"
     ]
    }
   ],
   "source": [
    "#Encode values of violation_code found with the best violation_code..\n",
    "#Update X.\n",
    "X = encode_dummy_given_list(X, list_names_violation_code, \"violation_code\")\n",
    "\n",
    "#Update X_test.\n",
    "X_test = encode_dummy_given_list(X_test, list_names_violation_code, \"violation_code\")\n",
    "\n",
    "print(X.shape)\n",
    "print(y.shape)\n",
    "print(X_test.shape)"
   ]
  },
  {
   "cell_type": "code",
   "execution_count": 20,
   "metadata": {
    "collapsed": false,
    "jupyter": {
     "outputs_hidden": false
    }
   },
   "outputs": [
    {
     "name": "stdout",
     "output_type": "stream",
     "text": [
      "(20, 1)\n",
      "       ratio_best_payed\n",
      "state                  \n",
      "QL             1.000000\n",
      "HI             0.333333\n",
      "RI             0.266667\n",
      "KS             0.230769\n",
      "NH             0.222222\n",
      "\n",
      "['QL', 'HI', 'RI', 'KS', 'NH', 'NB', 'KY', 'CO', 'SD', 'OH', 'IL', 'MD', 'AK', 'WY', 'WA', 'NY', 'MI', 'NJ', 'WI', 'ON']\n",
      "20\n"
     ]
    }
   ],
   "source": [
    "#Calculate best ratio payments for the column state.\n",
    "ratio_best_payed_state, list_names_ratio_best_state = find_best_ratio_of_payment_column(state, y, \"state\", \"compliance\", 20)\n",
    "\n",
    "print(ratio_best_payed_state.shape)\n",
    "print(ratio_best_payed_state.head(5))\n",
    "print(\"\")\n",
    "print(list_names_ratio_best_state)\n",
    "print(len(list_names_ratio_best_state))"
   ]
  },
  {
   "cell_type": "code",
   "execution_count": 21,
   "metadata": {
    "collapsed": false,
    "jupyter": {
     "outputs_hidden": false
    }
   },
   "outputs": [
    {
     "name": "stdout",
     "output_type": "stream",
     "text": [
      "       n_tickets\n",
      "state           \n",
      "MI        143415\n",
      "CA          3823\n",
      "TX          1946\n",
      "FL          1679\n",
      "SC          1066\n",
      "5\n"
     ]
    }
   ],
   "source": [
    "#Calculate the most frequent values for the column state.\n",
    "df_frequents_state, list_names_state = most_frequent_values_in_feature(state, y , 5)\n",
    "\n",
    "print(df_frequents_state)\n",
    "print(len(list_names_state))"
   ]
  },
  {
   "cell_type": "code",
   "execution_count": 22,
   "metadata": {
    "collapsed": false,
    "jupyter": {
     "outputs_hidden": false
    }
   },
   "outputs": [
    {
     "name": "stdout",
     "output_type": "stream",
     "text": [
      "(159529, 35)\n",
      "(159529,)\n",
      "(61001, 35)\n"
     ]
    }
   ],
   "source": [
    "#Encode values of violation_code found with the best state ratio.\n",
    "#Update X.\n",
    "X = encode_dummy_given_list(X, list_names_state, \"state\")\n",
    "\n",
    "#Update X_test.\n",
    "X_test = encode_dummy_given_list(X_test, list_names_state, \"state\")\n",
    "\n",
    "print(X.shape)\n",
    "print(y.shape)\n",
    "print(X_test.shape)"
   ]
  },
  {
   "cell_type": "code",
   "execution_count": 23,
   "metadata": {
    "collapsed": false,
    "jupyter": {
     "outputs_hidden": false
    }
   },
   "outputs": [
    {
     "name": "stdout",
     "output_type": "stream",
     "text": [
      "ticket_id                            int64\n",
      "agency_name                         object\n",
      "country                             object\n",
      "disposition                         object\n",
      "fine_amount                        float64\n",
      "admin_fee                          float64\n",
      "state_fee                          float64\n",
      "late_fee                           float64\n",
      "discount_amount                    float64\n",
      "clean_up_cost                      float64\n",
      "judgment_amount                    float64\n",
      "n_months_diff_issued_hearing         int64\n",
      "inspector_name_Morris, John          int64\n",
      "inspector_name_Samaan, Neil J        int64\n",
      "inspector_name_O'Neal, Claude        int64\n",
      "inspector_name_Steele, Jonathan      int64\n",
      "inspector_name_Devaney, John         int64\n",
      "violation_code_9-1-36(a)             int64\n",
      "violation_code_9-1-81(a)             int64\n",
      "violation_code_22-2-88               int64\n",
      "violation_code_9-1-104               int64\n",
      "violation_code_22-2-88(b)            int64\n",
      "state_MI                             int64\n",
      "state_CA                             int64\n",
      "state_TX                             int64\n",
      "state_FL                             int64\n",
      "state_SC                             int64\n",
      "dtype: object\n",
      "\n",
      "(159529, 27)\n",
      "(159529,)\n",
      "(61001, 27)\n"
     ]
    }
   ],
   "source": [
    "#Update X.\n",
    "X = drop_too_many_categories_in_column(X)\n",
    "\n",
    "#Update X_test.\n",
    "features = X.columns\n",
    "X_test = X_test[features]\n",
    "\n",
    "print(X.dtypes)\n",
    "\n",
    "print(\"\")\n",
    "print(X.shape)\n",
    "print(y.shape)\n",
    "print(X_test.shape)"
   ]
  },
  {
   "cell_type": "code",
   "execution_count": 24,
   "metadata": {
    "collapsed": false,
    "jupyter": {
     "outputs_hidden": false
    }
   },
   "outputs": [
    {
     "name": "stdout",
     "output_type": "stream",
     "text": [
      "\n",
      "(159529, 27)\n",
      "(159529,)\n",
      "(61001, 27)\n",
      "\n",
      "(159529, 1)\n",
      "(159529, 1)\n",
      "\n",
      "(61001, 1)\n",
      "(61001, 1)\n"
     ]
    }
   ],
   "source": [
    "#Extract the new variables from the feauture X set.\n",
    "hearing_date_status, hearing_date_months = hearing_date_feature_extraction(hearing_date)\n",
    "\n",
    "#Extract the new variables from the feauture X_test set.\n",
    "hearing_date_status_test, hearing_date_months_test = hearing_date_feature_extraction(hearing_date_test)\n",
    "\n",
    "print(\"\")\n",
    "print(X.shape)\n",
    "print(y.shape)\n",
    "print(X_test.shape)\n",
    "\n",
    "print(\"\")\n",
    "print(hearing_date_status.shape)\n",
    "print(hearing_date_months.shape)\n",
    "print(\"\")\n",
    "print(hearing_date_status_test.shape)\n",
    "print(hearing_date_months_test.shape)"
   ]
  },
  {
   "cell_type": "markdown",
   "metadata": {},
   "source": [
    "<h3>2. Engineering Data Analysis (EDA)</h3>\n",
    "<p>Check the relevance of some categorical features in relationship with the target variable.The analysis focuses over some extracted variables during the preparation phase.</p>\n",
    "<ul>\n",
    "<li>The variables of interest are n_months_difference, hearing_status, state, inspector_name, and violation_code.</li>\n",
    "</ul>"
   ]
  },
  {
   "cell_type": "code",
   "execution_count": 25,
   "metadata": {
    "collapsed": false,
    "jupyter": {
     "outputs_hidden": false
    }
   },
   "outputs": [
    {
     "data": {
      "image/png": "[encoded data removed]",
      "text/plain": [
       "<Figure size 432x288 with 1 Axes>"
      ]
     },
     "metadata": {
      "needs_background": "light"
     },
     "output_type": "display_data"
    },
    {
     "name": "stdout",
     "output_type": "stream",
     "text": [
      "contingency_table\n",
      "compliance                      0.0   1.0\n",
      "n_months_diff_issued_hearing             \n",
      "0                             35734  3152\n",
      "1                             44123  3471\n",
      "2                             24704  1791\n",
      "3                             18201  1114\n",
      "4                             12120   743\n",
      "5                              6505   402\n",
      "6                              3527   375\n",
      "7                              1762   181\n",
      "8                               699   115\n",
      "9                               404    44\n",
      "10                              214    23\n",
      "11                              117     8\n",
      "\n",
      "[ 0 10  8  6  4  7  1  2  5  3  9 11]\n",
      "n_months_diff_issued_hearing\n",
      "0     38886\n",
      "1     47594\n",
      "2     26495\n",
      "3     19315\n",
      "4     12863\n",
      "5      6907\n",
      "6      3902\n",
      "7      1943\n",
      "8       814\n",
      "9       448\n",
      "10      237\n",
      "11      125\n",
      "dtype: int64\n"
     ]
    }
   ],
   "source": [
    "#Check the changes in the target variable in regards to the variable n_months_difference. \n",
    "df_diff_months = pd.concat([X['n_months_diff_issued_hearing'], y], axis =1)\n",
    "\n",
    "sns.countplot(data=df_diff_months, x='n_months_diff_issued_hearing',hue = 'compliance')\n",
    "plt.show()\n",
    "\n",
    "print(\"contingency_table\")\n",
    "print(pd.crosstab(df_diff_months[\"n_months_diff_issued_hearing\"], df_diff_months[\"compliance\"]))\n",
    "\n",
    "print(\"\")\n",
    "print(X['n_months_diff_issued_hearing'].unique())\n",
    "print(X.groupby('n_months_diff_issued_hearing').size())"
   ]
  },
  {
   "cell_type": "code",
   "execution_count": 26,
   "metadata": {
    "collapsed": false,
    "jupyter": {
     "outputs_hidden": false
    }
   },
   "outputs": [
    {
     "name": "stdout",
     "output_type": "stream",
     "text": [
      "(159529, 2)\n"
     ]
    },
    {
     "data": {
      "image/png": "[encoded data removed]",
      "text/plain": [
       "<Figure size 432x288 with 1 Axes>"
      ]
     },
     "metadata": {
      "needs_background": "light"
     },
     "output_type": "display_data"
    },
    {
     "name": "stdout",
     "output_type": "stream",
     "text": [
      "contingency_table\n",
      "compliance              0.0    1.0\n",
      "hearing_date_status               \n",
      "old                  147508  11268\n",
      "partially-old           600    151\n",
      "recent                    2      0\n"
     ]
    }
   ],
   "source": [
    "#Analyse whether the column hearing_date_status is relevant for the target.\n",
    "#Countplots are created.\n",
    "df_status = pd.concat([y, hearing_date_status], axis =1)\n",
    "print(df_status.shape)\n",
    "sns.countplot(data=df_status, x='hearing_date_status',hue = 'compliance')\n",
    "plt.show()\n",
    "\n",
    "print(\"contingency_table\")\n",
    "print(pd.crosstab(df_status[\"hearing_date_status\"], df_status[\"compliance\"]))"
   ]
  },
  {
   "cell_type": "code",
   "execution_count": 27,
   "metadata": {
    "collapsed": false,
    "jupyter": {
     "outputs_hidden": false
    }
   },
   "outputs": [
    {
     "name": "stdout",
     "output_type": "stream",
     "text": [
      "(159529, 2)\n"
     ]
    },
    {
     "data": {
      "image/png": "[encoded data removed]",
      "text/plain": [
       "<Figure size 432x288 with 1 Axes>"
      ]
     },
     "metadata": {
      "needs_background": "light"
     },
     "output_type": "display_data"
    },
    {
     "name": "stdout",
     "output_type": "stream",
     "text": [
      "(159529, 2)\n",
      "\n",
      "contingency_table\n",
      "compliance             0.0  1.0\n",
      "violation_code                 \n",
      "19420901                12    4\n",
      "19450901              1574   45\n",
      "19830901                10    0\n",
      "19840901                 1    1\n",
      "19850901                 1    0\n",
      "...                    ...  ...\n",
      "9-1-82(d) - (Dwellin   443   13\n",
      "9-1-82(d) - (Structu    15    2\n",
      "9-1-83 - (Building 5     1    1\n",
      "9-1-83 - (Dwelling)     64    1\n",
      "9-1-83 - (Structures    16    0\n",
      "\n",
      "[189 rows x 2 columns]\n"
     ]
    }
   ],
   "source": [
    "#Analyse whether the column violation_code is relevant for the target.\n",
    "#Countplots are created.\n",
    "df_violation_code = pd.concat([violation_code, y], axis =1)\n",
    "print(df_violation_code.shape)\n",
    "sns.countplot(data=df_violation_code, x='violation_code',hue = 'compliance')\n",
    "plt.show()\n",
    "print(df_violation_code.shape)\n",
    "print(\"\")\n",
    "print(\"contingency_table\")\n",
    "print(pd.crosstab(df_violation_code[\"violation_code\"], df_violation_code[\"compliance\"]))\n",
    "#The most relevant are 19450901, 22-2-17, 22-2-43, 22-2-45, 9-1-81(a).s"
   ]
  },
  {
   "cell_type": "code",
   "execution_count": 28,
   "metadata": {
    "collapsed": false,
    "jupyter": {
     "outputs_hidden": false
    }
   },
   "outputs": [
    {
     "name": "stdout",
     "output_type": "stream",
     "text": [
      "(159529, 2)\n"
     ]
    },
    {
     "data": {
      "image/png": "[encoded data removed]",
      "text/plain": [
       "<Figure size 432x288 with 1 Axes>"
      ]
     },
     "metadata": {
      "needs_background": "light"
     },
     "output_type": "display_data"
    },
    {
     "name": "stdout",
     "output_type": "stream",
     "text": [
      "contingency_table\n",
      "compliance            0.0   1.0\n",
      "hearing_date_month             \n",
      "1.0                  8438   632\n",
      "10.0                13451   914\n",
      "11.0                11024   661\n",
      "12.0                14678   487\n",
      "2.0                 10163   809\n",
      "3.0                 13749  1126\n",
      "4.0                 17524  1315\n",
      "5.0                 12780  1102\n",
      "6.0                 11528   980\n",
      "7.0                 11738   870\n",
      "8.0                 12158  1794\n",
      "9.0                 10879   729\n"
     ]
    }
   ],
   "source": [
    "#Analyse whether the column hearing_dates_months is relevant for the target.\n",
    "#Countplots are created.\n",
    "df_month = pd.concat([hearing_date_months,y], axis =1)\n",
    "print(df_month.shape)\n",
    "sns.countplot(data=df_month, x='hearing_date_month',hue = 'compliance')\n",
    "plt.show()\n",
    "\n",
    "print(\"contingency_table\")\n",
    "print(pd.crosstab(df_month[\"hearing_date_month\"], df_month[\"compliance\"]))"
   ]
  },
  {
   "cell_type": "code",
   "execution_count": 29,
   "metadata": {
    "collapsed": false,
    "jupyter": {
     "outputs_hidden": false
    }
   },
   "outputs": [
    {
     "name": "stdout",
     "output_type": "stream",
     "text": [
      "0.0    0.928421\n",
      "1.0    0.071579\n",
      "Name: values, dtype: float64\n"
     ]
    }
   ],
   "source": [
    "#Check the balance of classes in the target variable.\n",
    "#The relationship is almost 1 to 9 for the classes in the target variable.\n",
    "y_classes = pd.DataFrame(y)\n",
    "y_classes.columns = ['values']\n",
    "print(y_classes['values'].value_counts(normalize=True))"
   ]
  },
  {
   "cell_type": "markdown",
   "metadata": {},
   "source": [
    "<h3>3. Dataset encoding</h3>\n",
    "<p>Transforming the dateset into all numerical entries. Features containing categorical values are converted into dummy vectors. It means that each category is represented by a vector of ones (1) and zeros (0).</p>\n",
    "<ul>\n",
    "<li>The procedure is done over the whole dataset because features on the train, and test sets might be equal.</li>\n",
    "</ul>"
   ]
  },
  {
   "cell_type": "code",
   "execution_count": 30,
   "metadata": {
    "collapsed": false,
    "jupyter": {
     "outputs_hidden": false
    }
   },
   "outputs": [
    {
     "name": "stdout",
     "output_type": "stream",
     "text": [
      "(159529,)\n",
      "ticket_id                                                       int64\n",
      "fine_amount                                                   float64\n",
      "admin_fee                                                     float64\n",
      "state_fee                                                     float64\n",
      "late_fee                                                      float64\n",
      "discount_amount                                               float64\n",
      "clean_up_cost                                                 float64\n",
      "judgment_amount                                               float64\n",
      "n_months_diff_issued_hearing                                    int64\n",
      "inspector_name_Morris, John                                     int64\n",
      "inspector_name_Samaan, Neil J                                   int64\n",
      "inspector_name_O'Neal, Claude                                   int64\n",
      "inspector_name_Steele, Jonathan                                 int64\n",
      "inspector_name_Devaney, John                                    int64\n",
      "violation_code_9-1-36(a)                                        int64\n",
      "violation_code_9-1-81(a)                                        int64\n",
      "violation_code_22-2-88                                          int64\n",
      "violation_code_9-1-104                                          int64\n",
      "violation_code_22-2-88(b)                                       int64\n",
      "state_MI                                                        int64\n",
      "state_CA                                                        int64\n",
      "state_TX                                                        int64\n",
      "state_FL                                                        int64\n",
      "state_SC                                                        int64\n",
      "agency_name_Buildings, Safety Engineering & Env Department      uint8\n",
      "agency_name_Department of Public Works                          uint8\n",
      "agency_name_Detroit Police Department                           uint8\n",
      "agency_name_Health Department                                   uint8\n",
      "agency_name_Neighborhood City Halls                             uint8\n",
      "country_Aust                                                    uint8\n",
      "country_Cana                                                    uint8\n",
      "country_Germ                                                    uint8\n",
      "country_USA                                                     uint8\n",
      "disposition_Responsible (Fine Waived) by Admis                  uint8\n",
      "disposition_Responsible (Fine Waived) by Deter                  uint8\n",
      "disposition_Responsible - Compl/Adj by Default                  uint8\n",
      "disposition_Responsible - Compl/Adj by Determi                  uint8\n",
      "disposition_Responsible by Admission                            uint8\n",
      "disposition_Responsible by Default                              uint8\n",
      "disposition_Responsible by Determination                        uint8\n",
      "disposition_Responsible by Dismissal                            uint8\n",
      "dtype: object\n",
      "\n",
      "(159529, 41)\n",
      "(159529,)\n",
      "(61001, 41)\n"
     ]
    }
   ],
   "source": [
    "#Define the number of rows in the X matrix.\n",
    "n_X = X.shape[0]\n",
    "\n",
    "#Concatenate vertically X, and X_test matrixes and encode them together.\n",
    "concatenated_dataframes = pd.concat([X, X_test], axis=0)\n",
    "concatenated_dataframes = pd.get_dummies(concatenated_dataframes)\n",
    "\n",
    "#Split the X and X_test matrixes after been encoded.\n",
    "X = concatenated_dataframes.iloc[0:n_X,:]\n",
    "X_test = concatenated_dataframes.iloc[n_X:,:]\n",
    "\n",
    "#Reshaping the y matrix into a vector (n,).\n",
    "y = y.values.reshape(y.values.shape[0],)\n",
    "print(y.shape)\n",
    "\n",
    "print(X.dtypes)\n",
    "print(\"\")\n",
    "print(X.shape)\n",
    "print(y.shape)\n",
    "print(X_test.shape)"
   ]
  },
  {
   "cell_type": "markdown",
   "metadata": {},
   "source": [
    "<h3>4. Feature selection (dimensionality reduction)</h3>\n",
    "<p>Select features having the strongest relationship with the target variable. Dimensionality reduction guarantees a best performance during the training phase</p>\n",
    "<ul>\n",
    "<li>In order to select the features, information gain is applied. It implies that features are selected satisfying the smallest lost of explained information when removing the variables</li>\n",
    "<li>Information gain is done by minimizing the entropy of the matrix X once variables are put taken off/li>\n",
    "</ul>"
   ]
  },
  {
   "cell_type": "code",
   "execution_count": 31,
   "metadata": {
    "collapsed": false,
    "jupyter": {
     "outputs_hidden": false
    }
   },
   "outputs": [
    {
     "name": "stdout",
     "output_type": "stream",
     "text": [
      "                                                      values\n",
      "disposition_Responsible by Default                  0.064811\n",
      "judgment_amount                                     0.051907\n",
      "late_fee                                            0.047391\n",
      "state_fee                                           0.036754\n",
      "admin_fee                                           0.036235\n",
      "country_USA                                         0.034309\n",
      "state_MI                                            0.027378\n",
      "ticket_id                                           0.023575\n",
      "disposition_Responsible by Admission                0.019126\n",
      "discount_amount                                     0.015148\n",
      "agency_name_Buildings, Safety Engineering & Env...  0.014008\n",
      "fine_amount                                         0.012692\n",
      "disposition_Responsible by Determination            0.012168\n",
      "violation_code_9-1-36(a)                            0.005496\n",
      "n_months_diff_issued_hearing                        0.005018\n",
      "['disposition_Responsible by Default', 'judgment_amount', 'late_fee', 'state_fee', 'admin_fee', 'country_USA', 'state_MI', 'ticket_id', 'disposition_Responsible by Admission', 'discount_amount', 'agency_name_Buildings, Safety Engineering & Env Department', 'fine_amount', 'disposition_Responsible by Determination', 'violation_code_9-1-36(a)', 'n_months_diff_issued_hearing']\n",
      "(159529, 15)\n",
      "(61001, 15)\n"
     ]
    }
   ],
   "source": [
    "selected_features = feature_selection_information_gain(X, y, 15)\n",
    "\n",
    "#Select the features according to their importance\n",
    "X = X[selected_features]\n",
    "X_test = X_test[selected_features]\n",
    "\n",
    "print(selected_features)\n",
    "print(X.shape)\n",
    "print(X_test.shape)"
   ]
  },
  {
   "cell_type": "code",
   "execution_count": 32,
   "metadata": {
    "collapsed": false,
    "jupyter": {
     "outputs_hidden": false
    }
   },
   "outputs": [
    {
     "name": "stdout",
     "output_type": "stream",
     "text": [
      "['disposition_Responsible by Default', 'judgment_amount', 'late_fee', 'state_fee', 'admin_fee', 'country_USA', 'state_MI', 'ticket_id', 'disposition_Responsible by Admission', 'discount_amount', 'agency_name_Buildings, Safety Engineering & Env Department', 'fine_amount', 'disposition_Responsible by Determination', 'violation_code_9-1-36(a)', 'n_months_diff_issued_hearing']\n"
     ]
    }
   ],
   "source": [
    "selected_features_KBest = feature_selection_information_gain_KBest(X, y, 15)\n",
    "print(selected_features_KBest)"
   ]
  },
  {
   "cell_type": "markdown",
   "metadata": {},
   "source": [
    "<h3>5. Training phase and model selection</h3>\n",
    "<p>Training multiple classifiers on the X matrix. After models are trained, the one having the best performance is selected.</p>\n",
    "<ul>\n",
    "<li>Hyperparameter tuning is done over each model. No more than 30 mins of training per model is satisfied</li>\n",
    "<li>Classifiers like SVM, Logistic regression, Random forest, and Gradient boosting are used for the purpose of this phase.</li>\n",
    "</ul>"
   ]
  },
  {
   "cell_type": "code",
   "execution_count": 36,
   "metadata": {
    "collapsed": false,
    "jupyter": {
     "outputs_hidden": false
    }
   },
   "outputs": [
    {
     "name": "stderr",
     "output_type": "stream",
     "text": [
      "/home/juan-david/.local/lib/python3.7/site-packages/sklearn/model_selection/_validation.py:552: FitFailedWarning: Estimator fit failed. The score on this train-test partition for these parameters will be set to nan. Details: \n",
      "Traceback (most recent call last):\n",
      "  File \"/home/juan-david/.local/lib/python3.7/site-packages/sklearn/model_selection/_validation.py\", line 531, in _fit_and_score\n",
      "    estimator.fit(X_train, y_train, **fit_params)\n",
      "  File \"/home/juan-david/.local/lib/python3.7/site-packages/sklearn/pipeline.py\", line 335, in fit\n",
      "    self._final_estimator.fit(Xt, y, **fit_params_last_step)\n",
      "  File \"/home/juan-david/.local/lib/python3.7/site-packages/sklearn/linear_model/_logistic.py\", line 1304, in fit\n",
      "    solver = _check_solver(self.solver, self.penalty, self.dual)\n",
      "  File \"/home/juan-david/.local/lib/python3.7/site-packages/sklearn/linear_model/_logistic.py\", line 443, in _check_solver\n",
      "    \"got %s penalty.\" % (solver, penalty))\n",
      "ValueError: Solver lbfgs supports only 'l2' or 'none' penalties, got l1 penalty.\n",
      "\n",
      "  FitFailedWarning)\n",
      "/home/juan-david/.local/lib/python3.7/site-packages/sklearn/model_selection/_validation.py:552: FitFailedWarning: Estimator fit failed. The score on this train-test partition for these parameters will be set to nan. Details: \n",
      "Traceback (most recent call last):\n",
      "  File \"/home/juan-david/.local/lib/python3.7/site-packages/sklearn/model_selection/_validation.py\", line 531, in _fit_and_score\n",
      "    estimator.fit(X_train, y_train, **fit_params)\n",
      "  File \"/home/juan-david/.local/lib/python3.7/site-packages/sklearn/pipeline.py\", line 335, in fit\n",
      "    self._final_estimator.fit(Xt, y, **fit_params_last_step)\n",
      "  File \"/home/juan-david/.local/lib/python3.7/site-packages/sklearn/linear_model/_logistic.py\", line 1304, in fit\n",
      "    solver = _check_solver(self.solver, self.penalty, self.dual)\n",
      "  File \"/home/juan-david/.local/lib/python3.7/site-packages/sklearn/linear_model/_logistic.py\", line 443, in _check_solver\n",
      "    \"got %s penalty.\" % (solver, penalty))\n",
      "ValueError: Solver lbfgs supports only 'l2' or 'none' penalties, got l1 penalty.\n",
      "\n",
      "  FitFailedWarning)\n",
      "/home/juan-david/.local/lib/python3.7/site-packages/sklearn/model_selection/_validation.py:552: FitFailedWarning: Estimator fit failed. The score on this train-test partition for these parameters will be set to nan. Details: \n",
      "Traceback (most recent call last):\n",
      "  File \"/home/juan-david/.local/lib/python3.7/site-packages/sklearn/model_selection/_validation.py\", line 531, in _fit_and_score\n",
      "    estimator.fit(X_train, y_train, **fit_params)\n",
      "  File \"/home/juan-david/.local/lib/python3.7/site-packages/sklearn/pipeline.py\", line 335, in fit\n",
      "    self._final_estimator.fit(Xt, y, **fit_params_last_step)\n",
      "  File \"/home/juan-david/.local/lib/python3.7/site-packages/sklearn/linear_model/_logistic.py\", line 1304, in fit\n",
      "    solver = _check_solver(self.solver, self.penalty, self.dual)\n",
      "  File \"/home/juan-david/.local/lib/python3.7/site-packages/sklearn/linear_model/_logistic.py\", line 443, in _check_solver\n",
      "    \"got %s penalty.\" % (solver, penalty))\n",
      "ValueError: Solver lbfgs supports only 'l2' or 'none' penalties, got l1 penalty.\n",
      "\n",
      "  FitFailedWarning)\n",
      "/home/juan-david/.local/lib/python3.7/site-packages/sklearn/model_selection/_validation.py:552: FitFailedWarning: Estimator fit failed. The score on this train-test partition for these parameters will be set to nan. Details: \n",
      "Traceback (most recent call last):\n",
      "  File \"/home/juan-david/.local/lib/python3.7/site-packages/sklearn/model_selection/_validation.py\", line 531, in _fit_and_score\n",
      "    estimator.fit(X_train, y_train, **fit_params)\n",
      "  File \"/home/juan-david/.local/lib/python3.7/site-packages/sklearn/pipeline.py\", line 335, in fit\n",
      "    self._final_estimator.fit(Xt, y, **fit_params_last_step)\n",
      "  File \"/home/juan-david/.local/lib/python3.7/site-packages/sklearn/linear_model/_logistic.py\", line 1304, in fit\n",
      "    solver = _check_solver(self.solver, self.penalty, self.dual)\n",
      "  File \"/home/juan-david/.local/lib/python3.7/site-packages/sklearn/linear_model/_logistic.py\", line 443, in _check_solver\n",
      "    \"got %s penalty.\" % (solver, penalty))\n",
      "ValueError: Solver lbfgs supports only 'l2' or 'none' penalties, got l1 penalty.\n",
      "\n",
      "  FitFailedWarning)\n",
      "/home/juan-david/.local/lib/python3.7/site-packages/sklearn/model_selection/_validation.py:552: FitFailedWarning: Estimator fit failed. The score on this train-test partition for these parameters will be set to nan. Details: \n",
      "Traceback (most recent call last):\n",
      "  File \"/home/juan-david/.local/lib/python3.7/site-packages/sklearn/model_selection/_validation.py\", line 531, in _fit_and_score\n",
      "    estimator.fit(X_train, y_train, **fit_params)\n",
      "  File \"/home/juan-david/.local/lib/python3.7/site-packages/sklearn/pipeline.py\", line 335, in fit\n",
      "    self._final_estimator.fit(Xt, y, **fit_params_last_step)\n",
      "  File \"/home/juan-david/.local/lib/python3.7/site-packages/sklearn/linear_model/_logistic.py\", line 1304, in fit\n",
      "    solver = _check_solver(self.solver, self.penalty, self.dual)\n",
      "  File \"/home/juan-david/.local/lib/python3.7/site-packages/sklearn/linear_model/_logistic.py\", line 443, in _check_solver\n",
      "    \"got %s penalty.\" % (solver, penalty))\n",
      "ValueError: Solver lbfgs supports only 'l2' or 'none' penalties, got l1 penalty.\n",
      "\n",
      "  FitFailedWarning)\n",
      "/home/juan-david/.local/lib/python3.7/site-packages/sklearn/model_selection/_validation.py:552: FitFailedWarning: Estimator fit failed. The score on this train-test partition for these parameters will be set to nan. Details: \n",
      "Traceback (most recent call last):\n",
      "  File \"/home/juan-david/.local/lib/python3.7/site-packages/sklearn/model_selection/_validation.py\", line 531, in _fit_and_score\n",
      "    estimator.fit(X_train, y_train, **fit_params)\n",
      "  File \"/home/juan-david/.local/lib/python3.7/site-packages/sklearn/pipeline.py\", line 335, in fit\n",
      "    self._final_estimator.fit(Xt, y, **fit_params_last_step)\n",
      "  File \"/home/juan-david/.local/lib/python3.7/site-packages/sklearn/linear_model/_logistic.py\", line 1304, in fit\n",
      "    solver = _check_solver(self.solver, self.penalty, self.dual)\n",
      "  File \"/home/juan-david/.local/lib/python3.7/site-packages/sklearn/linear_model/_logistic.py\", line 443, in _check_solver\n",
      "    \"got %s penalty.\" % (solver, penalty))\n",
      "ValueError: Solver lbfgs supports only 'l2' or 'none' penalties, got l1 penalty.\n",
      "\n",
      "  FitFailedWarning)\n",
      "/home/juan-david/.local/lib/python3.7/site-packages/sklearn/model_selection/_validation.py:552: FitFailedWarning: Estimator fit failed. The score on this train-test partition for these parameters will be set to nan. Details: \n",
      "Traceback (most recent call last):\n",
      "  File \"/home/juan-david/.local/lib/python3.7/site-packages/sklearn/model_selection/_validation.py\", line 531, in _fit_and_score\n",
      "    estimator.fit(X_train, y_train, **fit_params)\n",
      "  File \"/home/juan-david/.local/lib/python3.7/site-packages/sklearn/pipeline.py\", line 335, in fit\n",
      "    self._final_estimator.fit(Xt, y, **fit_params_last_step)\n",
      "  File \"/home/juan-david/.local/lib/python3.7/site-packages/sklearn/linear_model/_logistic.py\", line 1304, in fit\n",
      "    solver = _check_solver(self.solver, self.penalty, self.dual)\n",
      "  File \"/home/juan-david/.local/lib/python3.7/site-packages/sklearn/linear_model/_logistic.py\", line 443, in _check_solver\n",
      "    \"got %s penalty.\" % (solver, penalty))\n",
      "ValueError: Solver lbfgs supports only 'l2' or 'none' penalties, got l1 penalty.\n",
      "\n",
      "  FitFailedWarning)\n",
      "/home/juan-david/.local/lib/python3.7/site-packages/sklearn/model_selection/_validation.py:552: FitFailedWarning: Estimator fit failed. The score on this train-test partition for these parameters will be set to nan. Details: \n",
      "Traceback (most recent call last):\n",
      "  File \"/home/juan-david/.local/lib/python3.7/site-packages/sklearn/model_selection/_validation.py\", line 531, in _fit_and_score\n",
      "    estimator.fit(X_train, y_train, **fit_params)\n",
      "  File \"/home/juan-david/.local/lib/python3.7/site-packages/sklearn/pipeline.py\", line 335, in fit\n",
      "    self._final_estimator.fit(Xt, y, **fit_params_last_step)\n",
      "  File \"/home/juan-david/.local/lib/python3.7/site-packages/sklearn/linear_model/_logistic.py\", line 1304, in fit\n",
      "    solver = _check_solver(self.solver, self.penalty, self.dual)\n",
      "  File \"/home/juan-david/.local/lib/python3.7/site-packages/sklearn/linear_model/_logistic.py\", line 443, in _check_solver\n",
      "    \"got %s penalty.\" % (solver, penalty))\n",
      "ValueError: Solver lbfgs supports only 'l2' or 'none' penalties, got l1 penalty.\n",
      "\n",
      "  FitFailedWarning)\n",
      "/home/juan-david/.local/lib/python3.7/site-packages/sklearn/model_selection/_validation.py:552: FitFailedWarning: Estimator fit failed. The score on this train-test partition for these parameters will be set to nan. Details: \n",
      "Traceback (most recent call last):\n",
      "  File \"/home/juan-david/.local/lib/python3.7/site-packages/sklearn/model_selection/_validation.py\", line 531, in _fit_and_score\n",
      "    estimator.fit(X_train, y_train, **fit_params)\n",
      "  File \"/home/juan-david/.local/lib/python3.7/site-packages/sklearn/pipeline.py\", line 335, in fit\n",
      "    self._final_estimator.fit(Xt, y, **fit_params_last_step)\n",
      "  File \"/home/juan-david/.local/lib/python3.7/site-packages/sklearn/linear_model/_logistic.py\", line 1304, in fit\n",
      "    solver = _check_solver(self.solver, self.penalty, self.dual)\n",
      "  File \"/home/juan-david/.local/lib/python3.7/site-packages/sklearn/linear_model/_logistic.py\", line 443, in _check_solver\n",
      "    \"got %s penalty.\" % (solver, penalty))\n",
      "ValueError: Solver lbfgs supports only 'l2' or 'none' penalties, got l1 penalty.\n",
      "\n",
      "  FitFailedWarning)\n",
      "/home/juan-david/.local/lib/python3.7/site-packages/sklearn/model_selection/_validation.py:552: FitFailedWarning: Estimator fit failed. The score on this train-test partition for these parameters will be set to nan. Details: \n",
      "Traceback (most recent call last):\n",
      "  File \"/home/juan-david/.local/lib/python3.7/site-packages/sklearn/model_selection/_validation.py\", line 531, in _fit_and_score\n",
      "    estimator.fit(X_train, y_train, **fit_params)\n",
      "  File \"/home/juan-david/.local/lib/python3.7/site-packages/sklearn/pipeline.py\", line 335, in fit\n",
      "    self._final_estimator.fit(Xt, y, **fit_params_last_step)\n",
      "  File \"/home/juan-david/.local/lib/python3.7/site-packages/sklearn/linear_model/_logistic.py\", line 1304, in fit\n",
      "    solver = _check_solver(self.solver, self.penalty, self.dual)\n",
      "  File \"/home/juan-david/.local/lib/python3.7/site-packages/sklearn/linear_model/_logistic.py\", line 443, in _check_solver\n",
      "    \"got %s penalty.\" % (solver, penalty))\n",
      "ValueError: Solver lbfgs supports only 'l2' or 'none' penalties, got l1 penalty.\n",
      "\n",
      "  FitFailedWarning)\n",
      "/home/juan-david/.local/lib/python3.7/site-packages/sklearn/model_selection/_validation.py:552: FitFailedWarning: Estimator fit failed. The score on this train-test partition for these parameters will be set to nan. Details: \n",
      "Traceback (most recent call last):\n",
      "  File \"/home/juan-david/.local/lib/python3.7/site-packages/sklearn/model_selection/_validation.py\", line 531, in _fit_and_score\n",
      "    estimator.fit(X_train, y_train, **fit_params)\n",
      "  File \"/home/juan-david/.local/lib/python3.7/site-packages/sklearn/pipeline.py\", line 335, in fit\n",
      "    self._final_estimator.fit(Xt, y, **fit_params_last_step)\n",
      "  File \"/home/juan-david/.local/lib/python3.7/site-packages/sklearn/linear_model/_logistic.py\", line 1304, in fit\n",
      "    solver = _check_solver(self.solver, self.penalty, self.dual)\n",
      "  File \"/home/juan-david/.local/lib/python3.7/site-packages/sklearn/linear_model/_logistic.py\", line 443, in _check_solver\n",
      "    \"got %s penalty.\" % (solver, penalty))\n",
      "ValueError: Solver lbfgs supports only 'l2' or 'none' penalties, got l1 penalty.\n",
      "\n",
      "  FitFailedWarning)\n",
      "/home/juan-david/.local/lib/python3.7/site-packages/sklearn/model_selection/_validation.py:552: FitFailedWarning: Estimator fit failed. The score on this train-test partition for these parameters will be set to nan. Details: \n",
      "Traceback (most recent call last):\n",
      "  File \"/home/juan-david/.local/lib/python3.7/site-packages/sklearn/model_selection/_validation.py\", line 531, in _fit_and_score\n",
      "    estimator.fit(X_train, y_train, **fit_params)\n",
      "  File \"/home/juan-david/.local/lib/python3.7/site-packages/sklearn/pipeline.py\", line 335, in fit\n",
      "    self._final_estimator.fit(Xt, y, **fit_params_last_step)\n",
      "  File \"/home/juan-david/.local/lib/python3.7/site-packages/sklearn/linear_model/_logistic.py\", line 1304, in fit\n",
      "    solver = _check_solver(self.solver, self.penalty, self.dual)\n",
      "  File \"/home/juan-david/.local/lib/python3.7/site-packages/sklearn/linear_model/_logistic.py\", line 443, in _check_solver\n",
      "    \"got %s penalty.\" % (solver, penalty))\n",
      "ValueError: Solver lbfgs supports only 'l2' or 'none' penalties, got l1 penalty.\n",
      "\n",
      "  FitFailedWarning)\n",
      "/home/juan-david/.local/lib/python3.7/site-packages/sklearn/model_selection/_validation.py:552: FitFailedWarning: Estimator fit failed. The score on this train-test partition for these parameters will be set to nan. Details: \n",
      "Traceback (most recent call last):\n",
      "  File \"/home/juan-david/.local/lib/python3.7/site-packages/sklearn/model_selection/_validation.py\", line 531, in _fit_and_score\n",
      "    estimator.fit(X_train, y_train, **fit_params)\n",
      "  File \"/home/juan-david/.local/lib/python3.7/site-packages/sklearn/pipeline.py\", line 335, in fit\n",
      "    self._final_estimator.fit(Xt, y, **fit_params_last_step)\n",
      "  File \"/home/juan-david/.local/lib/python3.7/site-packages/sklearn/linear_model/_logistic.py\", line 1304, in fit\n",
      "    solver = _check_solver(self.solver, self.penalty, self.dual)\n",
      "  File \"/home/juan-david/.local/lib/python3.7/site-packages/sklearn/linear_model/_logistic.py\", line 443, in _check_solver\n",
      "    \"got %s penalty.\" % (solver, penalty))\n",
      "ValueError: Solver lbfgs supports only 'l2' or 'none' penalties, got l1 penalty.\n",
      "\n",
      "  FitFailedWarning)\n",
      "/home/juan-david/.local/lib/python3.7/site-packages/sklearn/model_selection/_validation.py:552: FitFailedWarning: Estimator fit failed. The score on this train-test partition for these parameters will be set to nan. Details: \n",
      "Traceback (most recent call last):\n",
      "  File \"/home/juan-david/.local/lib/python3.7/site-packages/sklearn/model_selection/_validation.py\", line 531, in _fit_and_score\n",
      "    estimator.fit(X_train, y_train, **fit_params)\n",
      "  File \"/home/juan-david/.local/lib/python3.7/site-packages/sklearn/pipeline.py\", line 335, in fit\n",
      "    self._final_estimator.fit(Xt, y, **fit_params_last_step)\n",
      "  File \"/home/juan-david/.local/lib/python3.7/site-packages/sklearn/linear_model/_logistic.py\", line 1304, in fit\n",
      "    solver = _check_solver(self.solver, self.penalty, self.dual)\n",
      "  File \"/home/juan-david/.local/lib/python3.7/site-packages/sklearn/linear_model/_logistic.py\", line 443, in _check_solver\n",
      "    \"got %s penalty.\" % (solver, penalty))\n",
      "ValueError: Solver lbfgs supports only 'l2' or 'none' penalties, got l1 penalty.\n",
      "\n",
      "  FitFailedWarning)\n",
      "/home/juan-david/.local/lib/python3.7/site-packages/sklearn/model_selection/_validation.py:552: FitFailedWarning: Estimator fit failed. The score on this train-test partition for these parameters will be set to nan. Details: \n",
      "Traceback (most recent call last):\n",
      "  File \"/home/juan-david/.local/lib/python3.7/site-packages/sklearn/model_selection/_validation.py\", line 531, in _fit_and_score\n",
      "    estimator.fit(X_train, y_train, **fit_params)\n",
      "  File \"/home/juan-david/.local/lib/python3.7/site-packages/sklearn/pipeline.py\", line 335, in fit\n",
      "    self._final_estimator.fit(Xt, y, **fit_params_last_step)\n",
      "  File \"/home/juan-david/.local/lib/python3.7/site-packages/sklearn/linear_model/_logistic.py\", line 1304, in fit\n",
      "    solver = _check_solver(self.solver, self.penalty, self.dual)\n",
      "  File \"/home/juan-david/.local/lib/python3.7/site-packages/sklearn/linear_model/_logistic.py\", line 443, in _check_solver\n",
      "    \"got %s penalty.\" % (solver, penalty))\n",
      "ValueError: Solver lbfgs supports only 'l2' or 'none' penalties, got l1 penalty.\n",
      "\n",
      "  FitFailedWarning)\n",
      "/home/juan-david/.local/lib/python3.7/site-packages/sklearn/linear_model/_logistic.py:764: ConvergenceWarning: lbfgs failed to converge (status=1):\n",
      "STOP: TOTAL NO. of ITERATIONS REACHED LIMIT.\n",
      "\n",
      "Increase the number of iterations (max_iter) or scale the data as shown in:\n",
      "    https://scikit-learn.org/stable/modules/preprocessing.html\n",
      "Please also refer to the documentation for alternative solver options:\n",
      "    https://scikit-learn.org/stable/modules/linear_model.html#logistic-regression\n",
      "  extra_warning_msg=_LOGISTIC_SOLVER_CONVERGENCE_MSG)\n",
      "/home/juan-david/.local/lib/python3.7/site-packages/sklearn/linear_model/_logistic.py:764: ConvergenceWarning: lbfgs failed to converge (status=1):\n",
      "STOP: TOTAL NO. of ITERATIONS REACHED LIMIT.\n",
      "\n",
      "Increase the number of iterations (max_iter) or scale the data as shown in:\n",
      "    https://scikit-learn.org/stable/modules/preprocessing.html\n",
      "Please also refer to the documentation for alternative solver options:\n",
      "    https://scikit-learn.org/stable/modules/linear_model.html#logistic-regression\n",
      "  extra_warning_msg=_LOGISTIC_SOLVER_CONVERGENCE_MSG)\n",
      "/home/juan-david/.local/lib/python3.7/site-packages/sklearn/linear_model/_logistic.py:764: ConvergenceWarning: lbfgs failed to converge (status=1):\n",
      "STOP: TOTAL NO. of ITERATIONS REACHED LIMIT.\n",
      "\n",
      "Increase the number of iterations (max_iter) or scale the data as shown in:\n",
      "    https://scikit-learn.org/stable/modules/preprocessing.html\n",
      "Please also refer to the documentation for alternative solver options:\n",
      "    https://scikit-learn.org/stable/modules/linear_model.html#logistic-regression\n",
      "  extra_warning_msg=_LOGISTIC_SOLVER_CONVERGENCE_MSG)\n",
      "/home/juan-david/.local/lib/python3.7/site-packages/sklearn/linear_model/_logistic.py:764: ConvergenceWarning: lbfgs failed to converge (status=1):\n",
      "STOP: TOTAL NO. of ITERATIONS REACHED LIMIT.\n",
      "\n",
      "Increase the number of iterations (max_iter) or scale the data as shown in:\n",
      "    https://scikit-learn.org/stable/modules/preprocessing.html\n",
      "Please also refer to the documentation for alternative solver options:\n",
      "    https://scikit-learn.org/stable/modules/linear_model.html#logistic-regression\n",
      "  extra_warning_msg=_LOGISTIC_SOLVER_CONVERGENCE_MSG)\n",
      "/home/juan-david/.local/lib/python3.7/site-packages/sklearn/model_selection/_validation.py:552: FitFailedWarning: Estimator fit failed. The score on this train-test partition for these parameters will be set to nan. Details: \n",
      "Traceback (most recent call last):\n",
      "  File \"/home/juan-david/.local/lib/python3.7/site-packages/sklearn/model_selection/_validation.py\", line 531, in _fit_and_score\n",
      "    estimator.fit(X_train, y_train, **fit_params)\n",
      "  File \"/home/juan-david/.local/lib/python3.7/site-packages/sklearn/pipeline.py\", line 335, in fit\n",
      "    self._final_estimator.fit(Xt, y, **fit_params_last_step)\n",
      "  File \"/home/juan-david/.local/lib/python3.7/site-packages/sklearn/linear_model/_logistic.py\", line 1304, in fit\n",
      "    solver = _check_solver(self.solver, self.penalty, self.dual)\n",
      "  File \"/home/juan-david/.local/lib/python3.7/site-packages/sklearn/linear_model/_logistic.py\", line 443, in _check_solver\n",
      "    \"got %s penalty.\" % (solver, penalty))\n",
      "ValueError: Solver lbfgs supports only 'l2' or 'none' penalties, got l1 penalty.\n",
      "\n",
      "  FitFailedWarning)\n",
      "/home/juan-david/.local/lib/python3.7/site-packages/sklearn/model_selection/_validation.py:552: FitFailedWarning: Estimator fit failed. The score on this train-test partition for these parameters will be set to nan. Details: \n",
      "Traceback (most recent call last):\n",
      "  File \"/home/juan-david/.local/lib/python3.7/site-packages/sklearn/model_selection/_validation.py\", line 531, in _fit_and_score\n",
      "    estimator.fit(X_train, y_train, **fit_params)\n",
      "  File \"/home/juan-david/.local/lib/python3.7/site-packages/sklearn/pipeline.py\", line 335, in fit\n",
      "    self._final_estimator.fit(Xt, y, **fit_params_last_step)\n",
      "  File \"/home/juan-david/.local/lib/python3.7/site-packages/sklearn/linear_model/_logistic.py\", line 1304, in fit\n",
      "    solver = _check_solver(self.solver, self.penalty, self.dual)\n",
      "  File \"/home/juan-david/.local/lib/python3.7/site-packages/sklearn/linear_model/_logistic.py\", line 443, in _check_solver\n",
      "    \"got %s penalty.\" % (solver, penalty))\n",
      "ValueError: Solver lbfgs supports only 'l2' or 'none' penalties, got l1 penalty.\n",
      "\n",
      "  FitFailedWarning)\n",
      "/home/juan-david/.local/lib/python3.7/site-packages/sklearn/model_selection/_validation.py:552: FitFailedWarning: Estimator fit failed. The score on this train-test partition for these parameters will be set to nan. Details: \n",
      "Traceback (most recent call last):\n",
      "  File \"/home/juan-david/.local/lib/python3.7/site-packages/sklearn/model_selection/_validation.py\", line 531, in _fit_and_score\n",
      "    estimator.fit(X_train, y_train, **fit_params)\n",
      "  File \"/home/juan-david/.local/lib/python3.7/site-packages/sklearn/pipeline.py\", line 335, in fit\n",
      "    self._final_estimator.fit(Xt, y, **fit_params_last_step)\n",
      "  File \"/home/juan-david/.local/lib/python3.7/site-packages/sklearn/linear_model/_logistic.py\", line 1304, in fit\n",
      "    solver = _check_solver(self.solver, self.penalty, self.dual)\n",
      "  File \"/home/juan-david/.local/lib/python3.7/site-packages/sklearn/linear_model/_logistic.py\", line 443, in _check_solver\n",
      "    \"got %s penalty.\" % (solver, penalty))\n",
      "ValueError: Solver lbfgs supports only 'l2' or 'none' penalties, got l1 penalty.\n",
      "\n",
      "  FitFailedWarning)\n",
      "/home/juan-david/.local/lib/python3.7/site-packages/sklearn/model_selection/_validation.py:552: FitFailedWarning: Estimator fit failed. The score on this train-test partition for these parameters will be set to nan. Details: \n",
      "Traceback (most recent call last):\n",
      "  File \"/home/juan-david/.local/lib/python3.7/site-packages/sklearn/model_selection/_validation.py\", line 531, in _fit_and_score\n",
      "    estimator.fit(X_train, y_train, **fit_params)\n",
      "  File \"/home/juan-david/.local/lib/python3.7/site-packages/sklearn/pipeline.py\", line 335, in fit\n",
      "    self._final_estimator.fit(Xt, y, **fit_params_last_step)\n",
      "  File \"/home/juan-david/.local/lib/python3.7/site-packages/sklearn/linear_model/_logistic.py\", line 1304, in fit\n",
      "    solver = _check_solver(self.solver, self.penalty, self.dual)\n",
      "  File \"/home/juan-david/.local/lib/python3.7/site-packages/sklearn/linear_model/_logistic.py\", line 443, in _check_solver\n",
      "    \"got %s penalty.\" % (solver, penalty))\n",
      "ValueError: Solver lbfgs supports only 'l2' or 'none' penalties, got l1 penalty.\n",
      "\n",
      "  FitFailedWarning)\n",
      "/home/juan-david/.local/lib/python3.7/site-packages/sklearn/model_selection/_validation.py:552: FitFailedWarning: Estimator fit failed. The score on this train-test partition for these parameters will be set to nan. Details: \n",
      "Traceback (most recent call last):\n",
      "  File \"/home/juan-david/.local/lib/python3.7/site-packages/sklearn/model_selection/_validation.py\", line 531, in _fit_and_score\n",
      "    estimator.fit(X_train, y_train, **fit_params)\n",
      "  File \"/home/juan-david/.local/lib/python3.7/site-packages/sklearn/pipeline.py\", line 335, in fit\n",
      "    self._final_estimator.fit(Xt, y, **fit_params_last_step)\n",
      "  File \"/home/juan-david/.local/lib/python3.7/site-packages/sklearn/linear_model/_logistic.py\", line 1304, in fit\n",
      "    solver = _check_solver(self.solver, self.penalty, self.dual)\n",
      "  File \"/home/juan-david/.local/lib/python3.7/site-packages/sklearn/linear_model/_logistic.py\", line 443, in _check_solver\n",
      "    \"got %s penalty.\" % (solver, penalty))\n",
      "ValueError: Solver lbfgs supports only 'l2' or 'none' penalties, got l1 penalty.\n",
      "\n",
      "  FitFailedWarning)\n",
      "/home/juan-david/.local/lib/python3.7/site-packages/sklearn/linear_model/_logistic.py:764: ConvergenceWarning: lbfgs failed to converge (status=1):\n",
      "STOP: TOTAL NO. of ITERATIONS REACHED LIMIT.\n",
      "\n",
      "Increase the number of iterations (max_iter) or scale the data as shown in:\n",
      "    https://scikit-learn.org/stable/modules/preprocessing.html\n",
      "Please also refer to the documentation for alternative solver options:\n",
      "    https://scikit-learn.org/stable/modules/linear_model.html#logistic-regression\n",
      "  extra_warning_msg=_LOGISTIC_SOLVER_CONVERGENCE_MSG)\n",
      "/home/juan-david/.local/lib/python3.7/site-packages/sklearn/linear_model/_logistic.py:764: ConvergenceWarning: lbfgs failed to converge (status=1):\n",
      "STOP: TOTAL NO. of ITERATIONS REACHED LIMIT.\n",
      "\n",
      "Increase the number of iterations (max_iter) or scale the data as shown in:\n",
      "    https://scikit-learn.org/stable/modules/preprocessing.html\n",
      "Please also refer to the documentation for alternative solver options:\n",
      "    https://scikit-learn.org/stable/modules/linear_model.html#logistic-regression\n",
      "  extra_warning_msg=_LOGISTIC_SOLVER_CONVERGENCE_MSG)\n",
      "/home/juan-david/.local/lib/python3.7/site-packages/sklearn/linear_model/_logistic.py:764: ConvergenceWarning: lbfgs failed to converge (status=1):\n",
      "STOP: TOTAL NO. of ITERATIONS REACHED LIMIT.\n",
      "\n",
      "Increase the number of iterations (max_iter) or scale the data as shown in:\n",
      "    https://scikit-learn.org/stable/modules/preprocessing.html\n",
      "Please also refer to the documentation for alternative solver options:\n",
      "    https://scikit-learn.org/stable/modules/linear_model.html#logistic-regression\n",
      "  extra_warning_msg=_LOGISTIC_SOLVER_CONVERGENCE_MSG)\n",
      "/home/juan-david/.local/lib/python3.7/site-packages/sklearn/linear_model/_logistic.py:764: ConvergenceWarning: lbfgs failed to converge (status=1):\n",
      "STOP: TOTAL NO. of ITERATIONS REACHED LIMIT.\n",
      "\n",
      "Increase the number of iterations (max_iter) or scale the data as shown in:\n",
      "    https://scikit-learn.org/stable/modules/preprocessing.html\n",
      "Please also refer to the documentation for alternative solver options:\n",
      "    https://scikit-learn.org/stable/modules/linear_model.html#logistic-regression\n",
      "  extra_warning_msg=_LOGISTIC_SOLVER_CONVERGENCE_MSG)\n",
      "/home/juan-david/.local/lib/python3.7/site-packages/sklearn/linear_model/_logistic.py:764: ConvergenceWarning: lbfgs failed to converge (status=1):\n",
      "STOP: TOTAL NO. of ITERATIONS REACHED LIMIT.\n",
      "\n",
      "Increase the number of iterations (max_iter) or scale the data as shown in:\n",
      "    https://scikit-learn.org/stable/modules/preprocessing.html\n",
      "Please also refer to the documentation for alternative solver options:\n",
      "    https://scikit-learn.org/stable/modules/linear_model.html#logistic-regression\n",
      "  extra_warning_msg=_LOGISTIC_SOLVER_CONVERGENCE_MSG)\n",
      "/home/juan-david/.local/lib/python3.7/site-packages/sklearn/model_selection/_validation.py:552: FitFailedWarning: Estimator fit failed. The score on this train-test partition for these parameters will be set to nan. Details: \n",
      "Traceback (most recent call last):\n",
      "  File \"/home/juan-david/.local/lib/python3.7/site-packages/sklearn/model_selection/_validation.py\", line 531, in _fit_and_score\n",
      "    estimator.fit(X_train, y_train, **fit_params)\n",
      "  File \"/home/juan-david/.local/lib/python3.7/site-packages/sklearn/pipeline.py\", line 335, in fit\n",
      "    self._final_estimator.fit(Xt, y, **fit_params_last_step)\n",
      "  File \"/home/juan-david/.local/lib/python3.7/site-packages/sklearn/linear_model/_logistic.py\", line 1304, in fit\n",
      "    solver = _check_solver(self.solver, self.penalty, self.dual)\n",
      "  File \"/home/juan-david/.local/lib/python3.7/site-packages/sklearn/linear_model/_logistic.py\", line 443, in _check_solver\n",
      "    \"got %s penalty.\" % (solver, penalty))\n",
      "ValueError: Solver lbfgs supports only 'l2' or 'none' penalties, got l1 penalty.\n",
      "\n",
      "  FitFailedWarning)\n",
      "/home/juan-david/.local/lib/python3.7/site-packages/sklearn/model_selection/_validation.py:552: FitFailedWarning: Estimator fit failed. The score on this train-test partition for these parameters will be set to nan. Details: \n",
      "Traceback (most recent call last):\n",
      "  File \"/home/juan-david/.local/lib/python3.7/site-packages/sklearn/model_selection/_validation.py\", line 531, in _fit_and_score\n",
      "    estimator.fit(X_train, y_train, **fit_params)\n",
      "  File \"/home/juan-david/.local/lib/python3.7/site-packages/sklearn/pipeline.py\", line 335, in fit\n",
      "    self._final_estimator.fit(Xt, y, **fit_params_last_step)\n",
      "  File \"/home/juan-david/.local/lib/python3.7/site-packages/sklearn/linear_model/_logistic.py\", line 1304, in fit\n",
      "    solver = _check_solver(self.solver, self.penalty, self.dual)\n",
      "  File \"/home/juan-david/.local/lib/python3.7/site-packages/sklearn/linear_model/_logistic.py\", line 443, in _check_solver\n",
      "    \"got %s penalty.\" % (solver, penalty))\n",
      "ValueError: Solver lbfgs supports only 'l2' or 'none' penalties, got l1 penalty.\n",
      "\n",
      "  FitFailedWarning)\n",
      "/home/juan-david/.local/lib/python3.7/site-packages/sklearn/model_selection/_validation.py:552: FitFailedWarning: Estimator fit failed. The score on this train-test partition for these parameters will be set to nan. Details: \n",
      "Traceback (most recent call last):\n",
      "  File \"/home/juan-david/.local/lib/python3.7/site-packages/sklearn/model_selection/_validation.py\", line 531, in _fit_and_score\n",
      "    estimator.fit(X_train, y_train, **fit_params)\n",
      "  File \"/home/juan-david/.local/lib/python3.7/site-packages/sklearn/pipeline.py\", line 335, in fit\n",
      "    self._final_estimator.fit(Xt, y, **fit_params_last_step)\n",
      "  File \"/home/juan-david/.local/lib/python3.7/site-packages/sklearn/linear_model/_logistic.py\", line 1304, in fit\n",
      "    solver = _check_solver(self.solver, self.penalty, self.dual)\n",
      "  File \"/home/juan-david/.local/lib/python3.7/site-packages/sklearn/linear_model/_logistic.py\", line 443, in _check_solver\n",
      "    \"got %s penalty.\" % (solver, penalty))\n",
      "ValueError: Solver lbfgs supports only 'l2' or 'none' penalties, got l1 penalty.\n",
      "\n",
      "  FitFailedWarning)\n",
      "/home/juan-david/.local/lib/python3.7/site-packages/sklearn/model_selection/_validation.py:552: FitFailedWarning: Estimator fit failed. The score on this train-test partition for these parameters will be set to nan. Details: \n",
      "Traceback (most recent call last):\n",
      "  File \"/home/juan-david/.local/lib/python3.7/site-packages/sklearn/model_selection/_validation.py\", line 531, in _fit_and_score\n",
      "    estimator.fit(X_train, y_train, **fit_params)\n",
      "  File \"/home/juan-david/.local/lib/python3.7/site-packages/sklearn/pipeline.py\", line 335, in fit\n",
      "    self._final_estimator.fit(Xt, y, **fit_params_last_step)\n",
      "  File \"/home/juan-david/.local/lib/python3.7/site-packages/sklearn/linear_model/_logistic.py\", line 1304, in fit\n",
      "    solver = _check_solver(self.solver, self.penalty, self.dual)\n",
      "  File \"/home/juan-david/.local/lib/python3.7/site-packages/sklearn/linear_model/_logistic.py\", line 443, in _check_solver\n",
      "    \"got %s penalty.\" % (solver, penalty))\n",
      "ValueError: Solver lbfgs supports only 'l2' or 'none' penalties, got l1 penalty.\n",
      "\n",
      "  FitFailedWarning)\n",
      "/home/juan-david/.local/lib/python3.7/site-packages/sklearn/model_selection/_validation.py:552: FitFailedWarning: Estimator fit failed. The score on this train-test partition for these parameters will be set to nan. Details: \n",
      "Traceback (most recent call last):\n",
      "  File \"/home/juan-david/.local/lib/python3.7/site-packages/sklearn/model_selection/_validation.py\", line 531, in _fit_and_score\n",
      "    estimator.fit(X_train, y_train, **fit_params)\n",
      "  File \"/home/juan-david/.local/lib/python3.7/site-packages/sklearn/pipeline.py\", line 335, in fit\n",
      "    self._final_estimator.fit(Xt, y, **fit_params_last_step)\n",
      "  File \"/home/juan-david/.local/lib/python3.7/site-packages/sklearn/linear_model/_logistic.py\", line 1304, in fit\n",
      "    solver = _check_solver(self.solver, self.penalty, self.dual)\n",
      "  File \"/home/juan-david/.local/lib/python3.7/site-packages/sklearn/linear_model/_logistic.py\", line 443, in _check_solver\n",
      "    \"got %s penalty.\" % (solver, penalty))\n",
      "ValueError: Solver lbfgs supports only 'l2' or 'none' penalties, got l1 penalty.\n",
      "\n",
      "  FitFailedWarning)\n",
      "/home/juan-david/.local/lib/python3.7/site-packages/sklearn/linear_model/_logistic.py:764: ConvergenceWarning: lbfgs failed to converge (status=1):\n",
      "STOP: TOTAL NO. of ITERATIONS REACHED LIMIT.\n",
      "\n",
      "Increase the number of iterations (max_iter) or scale the data as shown in:\n",
      "    https://scikit-learn.org/stable/modules/preprocessing.html\n",
      "Please also refer to the documentation for alternative solver options:\n",
      "    https://scikit-learn.org/stable/modules/linear_model.html#logistic-regression\n",
      "  extra_warning_msg=_LOGISTIC_SOLVER_CONVERGENCE_MSG)\n",
      "/home/juan-david/.local/lib/python3.7/site-packages/sklearn/linear_model/_logistic.py:764: ConvergenceWarning: lbfgs failed to converge (status=1):\n",
      "STOP: TOTAL NO. of ITERATIONS REACHED LIMIT.\n",
      "\n",
      "Increase the number of iterations (max_iter) or scale the data as shown in:\n",
      "    https://scikit-learn.org/stable/modules/preprocessing.html\n",
      "Please also refer to the documentation for alternative solver options:\n",
      "    https://scikit-learn.org/stable/modules/linear_model.html#logistic-regression\n",
      "  extra_warning_msg=_LOGISTIC_SOLVER_CONVERGENCE_MSG)\n",
      "/home/juan-david/.local/lib/python3.7/site-packages/sklearn/linear_model/_logistic.py:764: ConvergenceWarning: lbfgs failed to converge (status=1):\n",
      "STOP: TOTAL NO. of ITERATIONS REACHED LIMIT.\n",
      "\n",
      "Increase the number of iterations (max_iter) or scale the data as shown in:\n",
      "    https://scikit-learn.org/stable/modules/preprocessing.html\n",
      "Please also refer to the documentation for alternative solver options:\n",
      "    https://scikit-learn.org/stable/modules/linear_model.html#logistic-regression\n",
      "  extra_warning_msg=_LOGISTIC_SOLVER_CONVERGENCE_MSG)\n",
      "/home/juan-david/.local/lib/python3.7/site-packages/sklearn/linear_model/_logistic.py:764: ConvergenceWarning: lbfgs failed to converge (status=1):\n",
      "STOP: TOTAL NO. of ITERATIONS REACHED LIMIT.\n",
      "\n",
      "Increase the number of iterations (max_iter) or scale the data as shown in:\n",
      "    https://scikit-learn.org/stable/modules/preprocessing.html\n",
      "Please also refer to the documentation for alternative solver options:\n",
      "    https://scikit-learn.org/stable/modules/linear_model.html#logistic-regression\n",
      "  extra_warning_msg=_LOGISTIC_SOLVER_CONVERGENCE_MSG)\n",
      "/home/juan-david/.local/lib/python3.7/site-packages/sklearn/linear_model/_logistic.py:764: ConvergenceWarning: lbfgs failed to converge (status=1):\n",
      "STOP: TOTAL NO. of ITERATIONS REACHED LIMIT.\n",
      "\n",
      "Increase the number of iterations (max_iter) or scale the data as shown in:\n",
      "    https://scikit-learn.org/stable/modules/preprocessing.html\n",
      "Please also refer to the documentation for alternative solver options:\n",
      "    https://scikit-learn.org/stable/modules/linear_model.html#logistic-regression\n",
      "  extra_warning_msg=_LOGISTIC_SOLVER_CONVERGENCE_MSG)\n"
     ]
    },
    {
     "name": "stdout",
     "output_type": "stream",
     "text": [
      "dict_keys(['mean_fit_time', 'std_fit_time', 'mean_score_time', 'std_score_time', 'param_model__C', 'param_model__penalty', 'params', 'split0_test_score', 'split1_test_score', 'split2_test_score', 'split3_test_score', 'split4_test_score', 'mean_test_score', 'std_test_score', 'rank_test_score'])\n",
      "{'mean_fit_time': array([0.03431683, 1.20587296, 0.03556933, 2.49442525, 0.03528204,\n",
      "       2.70979772, 0.03554378, 2.83204408, 0.0396172 , 2.97650361]), 'std_fit_time': array([0.00834852, 0.08620633, 0.00746257, 0.22107807, 0.00781637,\n",
      "       0.19985257, 0.00749363, 0.10017361, 0.01084434, 0.17006033]), 'mean_score_time': array([0.        , 0.02825456, 0.        , 0.0267087 , 0.        ,\n",
      "       0.02683234, 0.        , 0.02715964, 0.        , 0.03089728]), 'std_score_time': array([0.00000000e+00, 2.99651407e-03, 0.00000000e+00, 9.93076319e-05,\n",
      "       0.00000000e+00, 2.79642492e-04, 0.00000000e+00, 7.83101455e-04,\n",
      "       0.00000000e+00, 6.40328849e-03]), 'param_model__C': masked_array(data=[0.01, 0.01, 0.1, 0.1, 1, 1, 10, 10, 100, 100],\n",
      "             mask=[False, False, False, False, False, False, False, False,\n",
      "                   False, False],\n",
      "       fill_value='?',\n",
      "            dtype=object), 'param_model__penalty': masked_array(data=['l1', 'l2', 'l1', 'l2', 'l1', 'l2', 'l1', 'l2', 'l1',\n",
      "                   'l2'],\n",
      "             mask=[False, False, False, False, False, False, False, False,\n",
      "                   False, False],\n",
      "       fill_value='?',\n",
      "            dtype=object), 'params': [{'model__C': 0.01, 'model__penalty': 'l1'}, {'model__C': 0.01, 'model__penalty': 'l2'}, {'model__C': 0.1, 'model__penalty': 'l1'}, {'model__C': 0.1, 'model__penalty': 'l2'}, {'model__C': 1, 'model__penalty': 'l1'}, {'model__C': 1, 'model__penalty': 'l2'}, {'model__C': 10, 'model__penalty': 'l1'}, {'model__C': 10, 'model__penalty': 'l2'}, {'model__C': 100, 'model__penalty': 'l1'}, {'model__C': 100, 'model__penalty': 'l2'}], 'split0_test_score': array([       nan, 0.7289809 ,        nan, 0.73612939,        nan,\n",
      "       0.74797034,        nan, 0.75363559,        nan, 0.75680854]), 'split1_test_score': array([       nan, 0.73707818,        nan, 0.75902324,        nan,\n",
      "       0.77564796,        nan, 0.78175349,        nan, 0.78213653]), 'split2_test_score': array([       nan, 0.78433086,        nan, 0.80603454,        nan,\n",
      "       0.82115134,        nan, 0.83100188,        nan, 0.82869212]), 'split3_test_score': array([       nan, 0.73080441,        nan, 0.74556904,        nan,\n",
      "       0.76135488,        nan, 0.77042736,        nan, 0.76909694]), 'split4_test_score': array([       nan, 0.74420652,        nan, 0.75456917,        nan,\n",
      "       0.76214233,        nan, 0.76490724,        nan, 0.76505143]), 'mean_test_score': array([       nan, 0.74508018,        nan, 0.76026508,        nan,\n",
      "       0.77365337,        nan, 0.78034512,        nan, 0.78035711]), 'std_test_score': array([       nan, 0.0203391 ,        nan, 0.02419642,        nan,\n",
      "       0.0253117 ,        nan, 0.02690048,        nan, 0.02551482]), 'rank_test_score': array([ 6,  5,  7,  4,  8,  3,  9,  2, 10,  1], dtype=int32)}\n",
      "\n",
      "train\n",
      "\n",
      "test\n",
      "[[       nan 0.74508018]\n",
      " [       nan 0.76026508]\n",
      " [       nan 0.77365337]\n",
      " [       nan 0.78034512]\n",
      " [       nan 0.78035711]]\n",
      "\n",
      "{'model__C': 100, 'model__penalty': 'l2'}\n",
      "\n",
      "[[0.96387394 0.03612606]\n",
      " [0.89584232 0.10415768]\n",
      " [0.97469346 0.02530654]\n",
      " ...\n",
      " [0.96080597 0.03919403]\n",
      " [0.50136621 0.49863379]\n",
      " [0.9420938  0.0579062 ]]\n",
      "ticket_id\n",
      "22056     0.036126\n",
      "27586     0.104158\n",
      "22046     0.025307\n",
      "18738     0.008128\n",
      "18735     0.019560\n",
      "            ...   \n",
      "285106    0.055973\n",
      "284650    0.020151\n",
      "285125    0.039194\n",
      "284881    0.498634\n",
      "284333    0.057906\n",
      "Name: compliance, Length: 159529, dtype: float64\n"
     ]
    },
    {
     "name": "stderr",
     "output_type": "stream",
     "text": [
      "/home/juan-david/.local/lib/python3.7/site-packages/sklearn/linear_model/_logistic.py:764: ConvergenceWarning: lbfgs failed to converge (status=1):\n",
      "STOP: TOTAL NO. of ITERATIONS REACHED LIMIT.\n",
      "\n",
      "Increase the number of iterations (max_iter) or scale the data as shown in:\n",
      "    https://scikit-learn.org/stable/modules/preprocessing.html\n",
      "Please also refer to the documentation for alternative solver options:\n",
      "    https://scikit-learn.org/stable/modules/linear_model.html#logistic-regression\n",
      "  extra_warning_msg=_LOGISTIC_SOLVER_CONVERGENCE_MSG)\n"
     ]
    }
   ],
   "source": [
    "#Train a logistic regresion classifier.\n",
    "#Obtained AUC in test = 0.775\n",
    "\n",
    "#Best AUC reached : 0.77909119. running best 20 and selectiog 30.\n",
    "#Best AUC 0.78433477 running best 5 and selecting 18.\n",
    "#Best AUC 0.77989349 running best 5 and selecting 10.\n",
    "#Best AUC 0.78518753 running best 10 and selecting 25.\n",
    "\n",
    "scaler = MinMaxScaler()\n",
    "clf = LogisticRegression()\n",
    "pipeline = Pipeline([('scaler',scaler), ('model', clf)])\n",
    "grid_values = {'model__penalty': ['l1', 'l2'], 'model__C':[0.01, 0.1, 1, 10, 100]}\n",
    "search = GridSearchCV(pipeline, grid_values, cv =5, scoring = \"roc_auc\").fit(X,y)\n",
    "\n",
    "cv_result = search.cv_results_\n",
    "\n",
    "print(cv_result.keys())\n",
    "\n",
    "#mean_train_score = cv_result['mean_train_score']\n",
    "\n",
    "mean_test_score = cv_result['mean_test_score']\n",
    "\n",
    "#results_train = np.array(mean_train_score).reshape(5,2)\n",
    "\n",
    "results = np.array(mean_test_score).reshape(5,2)\n",
    "\n",
    "params = search.best_params_\n",
    "\n",
    "#For each combination of parameters, there is an average of the auc metric calculated within a logistic regression classifier.\n",
    "#L1,l2 as columns, and 0.01, 0.1, 0.1, 10, 100 as rows in the results matrix.\n",
    "print(cv_result)\n",
    "print('')\n",
    "print('train')\n",
    "#print(results_train)\n",
    "print('')\n",
    "print('test')\n",
    "print(results)\n",
    "print('')\n",
    "print(params)\n",
    "print('')\n",
    "\n",
    "#Predict probabilities.\n",
    "y_prob_logistic_regression = search.predict_proba(X)\n",
    "\n",
    "print(y_prob_logistic_regression)\n",
    "\n",
    "#Get probabilities.\n",
    "y_prob_logistic_regression = get_probs_format(X,y_prob_logistic_regression)\n",
    "print(y_prob_logistic_regression)"
   ]
  },
  {
   "cell_type": "code",
   "execution_count": 48,
   "metadata": {
    "collapsed": false,
    "jupyter": {
     "outputs_hidden": false
    }
   },
   "outputs": [],
   "source": [
    "#Train a randomforest classifier with randomsearch.\n",
    "#The classifier is tried with randomsearch to check the best parameters combinations that make better classifications.\n",
    "#Crossvalidation is not performed with this classifier cause it is nessesary an X_test(validation) to evaluate the auc metric.\n",
    "X = X[selected_features]\n",
    "X_train, X_val, y_train, y_val = train_test_split(X, y, random_state=0, test_size=0.20)\n",
    "\n",
    "#The parameter class_weight='balanced_subsample' will check the proportion of labels of each class in each tree.\n",
    "#Based on that, it will calculate the metric in favor to the minority class.\n",
    "clf = RandomForestClassifier(class_weight='balanced_subsample')\n",
    "\n",
    "#n_estimators = [int(x) for x in np.linspace(start = 200, stop = 2000, num = 10)]\n",
    "n_estimators = [200]\n",
    "#n_estimators = [int(x) for x in np.linspace(start = 200, stop = 210, num = 2)]\n",
    "# Number of features to consider at every split\n",
    "#max_features = ['auto']\n",
    "max_features = ['auto', 'sqrt']\n",
    "# Maximum number of levels in tree\n",
    "max_depth = [10]\n",
    "#max_depth = [int(x) for x in np.linspace(10, 110, num = 10)]\n",
    "#max_depth = [int(x) for x in np.linspace(10, 20, num = 2)]\n",
    "#max_depth.append(None)\n",
    "min_samples_split[2]\n",
    "# Minimum number of samples required to split a node\n",
    "#min_samples_split = [2, 5, 10]\n",
    "# Minimum number of samples required at each leaf node\n",
    "min_samples_leaf = [1]\n",
    "#min_samples_leaf = [1, 2, 4]\n",
    "# Method of selecting samples for training each tree\n",
    "bootstrap = [True]\n",
    "#bootstrap = [True, False]\n",
    "\n",
    "random_grid = {'n_estimators': n_estimators,\n",
    "               'max_features': max_features,\n",
    "               'max_depth': max_depth,\n",
    "               'min_samples_split': min_samples_split,\n",
    "               'min_samples_leaf': min_samples_leaf,\n",
    "               'bootstrap': bootstrap}\n",
    "\n",
    "# Random search of parameters, using 3 fold cross validation, \n",
    "# search across 100 different combinations, and use all available cores\n",
    "#n_iter tells us the number of different combinations to try.\n",
    "rf_random = RandomizedSearchCV(estimator = clf, param_distributions = random_grid, n_iter = 5, cv = 5, verbose=2, random_state=42, n_jobs = -1, scoring =\"roc_auc\")# Fit the random search model\n",
    "\n",
    "#Training the classifier.\n",
    "rf_random.fit(X_train, y_train)\n",
    "\n",
    "#Print results\n",
    "auc_train = roc_auc_score(y_train, rf_random.predict(X_train))\n",
    "auc_test = roc_auc_score(y_val, rf_random.predict(X_val))\n",
    "\n",
    "#Predict probabilities.\n",
    "y_prob_random_forest_rs = grid_search.predict_proba(X_val)\n",
    "\n",
    "print(rf_random.best_params_)\n",
    "print(auc_train)\n",
    "print(auc_test)\n",
    "\n",
    "dprint(y_prob_random_forest_rs)"
   ]
  },
  {
   "cell_type": "code",
   "execution_count": 50,
   "metadata": {
    "collapsed": false,
    "jupyter": {
     "outputs_hidden": false
    }
   },
   "outputs": [],
   "source": [
    "#Train a supporting vector machines classifier.\n",
    "#from sklearn.model_selection import GridSearchCV, KFold\n",
    "\n",
    "X = X[selected_features]\n",
    "X_train, X_val, y_train, y_val = train_test_split(X, y, random_state=0, test_size=0.20)\n",
    "\n",
    "#The parameter class_weight='balanced_subsample' will check the proportion of labels of each class in each tree.\n",
    "#Based on that, it will calculate the metric in favor to the minority class.\n",
    "clf = SVC(class_weight='balanced', probability=True)\n",
    "\n",
    "param_grid = {'C': [0.1, 1, 10, 10, 100], \n",
    "              'gamma': [1, 0.1, 0.01, 0.001, 0.0001],\n",
    "              'kernel': ['rbf']} \n",
    "        \n",
    "#param_grid = {'C': [1], \n",
    "  #            'gamma': [1],\n",
    "  #            'kernel': ['rbf']}\n",
    "\n",
    "grid_search = GridSearchCV(estimator = clf, param_grid = param_grid, \n",
    "                          cv = 3, n_jobs = -1, verbose = 2)\n",
    "\n",
    "#Training the classifier.\n",
    "grid_search.fit(X_train, y_train)\n",
    "\n",
    "#Print results\n",
    "auc_train = roc_auc_score(y_train, grid_search.predict(X_train))\n",
    "auc_test = roc_auc_score(y_val, grid_search.predict(X_val))\n",
    "\n",
    "#Predict probabilities\n",
    "y_prob_SVM = grid_search.predict_proba(X_val)\n",
    "\n",
    "print(grid_search.best_params_)\n",
    "print(auc_train)\n",
    "print(auc_test)\n",
    "\n",
    "print(\"\")\n",
    "print(y_prob_SVM)"
   ]
  },
  {
   "cell_type": "code",
   "execution_count": 51,
   "metadata": {
    "collapsed": true,
    "jupyter": {
     "outputs_hidden": true
    }
   },
   "outputs": [],
   "source": [
    "#Try a gradient boosting classifier on the problem.\n",
    "#Obtained AUC in test = 0.623612649317\n",
    "\n",
    "X = X[selected_features]\n",
    "X_train, X_val, y_train, y_val = train_test_split(X, y, random_state=0, test_size=0.20)\n",
    "\n",
    "#The parameter class_weight='balanced_subsample' will check the proportion of labels of each class in each tree.\n",
    "#Based on that, it will calculate the metric in favor to the minority class.\n",
    "clf = GradientBoostingClassifier()\n",
    "\n",
    "#Finding the optimal number of desicion trees.\n",
    "#errors = [mean_squared_error(y_test, y_pred) for y_pred in regressor.staged_predict(X_test)]\n",
    "#best_n_estimators = np.argmin(errors)\n",
    "\n",
    "parameters = {\n",
    "   \"learning_rate\": [0.01,0.05, 0.1],\n",
    "    \"n_estimators\":[10,50,100],\n",
    "   \"subsample\":[0.5, 0.8, 0.85]\n",
    "}\n",
    "\n",
    "#parameters = {\n",
    "    #\"loss\":[\"deviance\"],\n",
    "    #\"learning_rate\": [0.01, 0.025, 0.05, 0.075, 0.1, 0.15, 0.2],\n",
    "    #\"min_samples_split\": np.linspace(0.1, 0.5, 12),\n",
    "    #\"min_samples_leaf\": np.linspace(0.1, 0.5, 12),\n",
    "    #\"max_depth\":[3,5,8],\n",
    "    #\"max_features\":[\"log2\",\"sqrt\"],\n",
    "    #\"criterion\": [\"friedman_mse\",  \"mae\"],\n",
    "    #\"subsample\":[0.5, 0.618, 0.8, 0.85, 0.9, 0.95, 1.0],\n",
    "    #\"n_estimators\":[10]\n",
    "#}\n",
    "\n",
    "\n",
    "grid_search = GridSearchCV(estimator = clf, param_grid = parameters, scoring = \"roc_auc\", cv = 5, n_jobs = -1, verbose = 2)\n",
    "\n",
    "#Training the classifier.\n",
    "grid_search.fit(X_train, y_train)\n",
    "\n",
    "#Print results\n",
    "auc_train = roc_auc_score(y_train, grid_search.predict(X_train))\n",
    "auc_test = roc_auc_score(y_val, grid_search.predict(X_val))\n",
    "\n",
    "print(grid_search.best_params_)\n",
    "print(auc_train)\n",
    "print(auc_test)\n",
    "\n",
    "#Predict probabilities\n",
    "y_prob_GB = grid_search.predict_proba(X_val)\n",
    "\n",
    "print(y_prob_GB)"
   ]
  },
  {
   "cell_type": "markdown",
   "metadata": {},
   "source": [
    "<h3>6. Model evaluation on unseen data </h3>\n",
    "<p>Evaluating how well the model performs on data that it hasn't seen before. The evaluation is performed over the X_test set.</p>\n",
    "<ul>\n",
    "<li>A Logistic Regression was selected as the best classifier to perform the prediction task for ticket compliance during the training and model selection phase </li>\n",
    "<li>At the final part, probabilites of the given predictions are calculated.</li>\n",
    "</ul>"
   ]
  },
  {
   "cell_type": "code",
   "execution_count": 52,
   "metadata": {
    "collapsed": false,
    "jupyter": {
     "outputs_hidden": false
    }
   },
   "outputs": [
    {
     "name": "stdout",
     "output_type": "stream",
     "text": [
      "ticket_id\n",
      "284932    0.057680\n",
      "285362    0.020298\n",
      "285361    0.062121\n",
      "285338    0.055008\n",
      "285346    0.062120\n",
      "285345    0.055009\n",
      "285347    0.065990\n",
      "285342    0.481184\n",
      "285530    0.018669\n",
      "284989    0.036749\n",
      "285344    0.065990\n",
      "285343    0.020297\n",
      "285340    0.020297\n",
      "285341    0.065990\n",
      "285349    0.057326\n",
      "285348    0.050734\n",
      "284991    0.036749\n",
      "285532    0.038018\n",
      "285406    0.038014\n",
      "285001    0.035770\n",
      "285006    0.010449\n",
      "285405    0.018667\n",
      "285337    0.036759\n",
      "285496    0.069186\n",
      "285497    0.057706\n",
      "285378    0.019617\n",
      "285589    0.035016\n",
      "285585    0.055019\n",
      "285501    0.065143\n",
      "285581    0.020301\n",
      "            ...   \n",
      "376367    0.014764\n",
      "376366    0.050012\n",
      "376362    0.348011\n",
      "376363    0.236119\n",
      "376365    0.014764\n",
      "376364    0.050012\n",
      "376228    0.052465\n",
      "376265    0.052467\n",
      "376286    0.293951\n",
      "376320    0.050010\n",
      "376314    0.050010\n",
      "376327    0.283567\n",
      "376385    0.283577\n",
      "376435    0.465377\n",
      "376370    0.496949\n",
      "376434    0.074343\n",
      "376459    0.070021\n",
      "376478    0.000134\n",
      "376473    0.052476\n",
      "376484    0.027414\n",
      "376482    0.019597\n",
      "376480    0.019597\n",
      "376479    0.019597\n",
      "376481    0.019597\n",
      "376483    0.026863\n",
      "376496    0.011286\n",
      "376497    0.011286\n",
      "376499    0.070023\n",
      "376500    0.070023\n",
      "369851    0.078346\n",
      "Name: compliance, dtype: float64\n",
      "\n",
      "(61001,)\n"
     ]
    }
   ],
   "source": [
    "#Logistic regression prediction over the test set.\n",
    "#Predict probabilities.\n",
    "y_prob_logistic_regression = search.predict_proba(X_test)\n",
    "y_prob_logistic_regression = get_probs_format(X_test, y_prob_logistic_regression)\n",
    "print(y_prob_logistic_regression)\n",
    "print(\"\")\n",
    "print(y_prob_logistic_regression.shape)"
   ]
  },
  {
   "cell_type": "code",
   "execution_count": 53,
   "metadata": {
    "collapsed": true,
    "jupyter": {
     "outputs_hidden": true
    }
   },
   "outputs": [],
   "source": [
    "def blight_model():\n",
    "    \n",
    "    answer = y_prob_logistic_regression\n",
    "    \n",
    "    return answer"
   ]
  },
  {
   "cell_type": "code",
   "execution_count": 54,
   "metadata": {
    "collapsed": false,
    "jupyter": {
     "outputs_hidden": false
    }
   },
   "outputs": [
    {
     "data": {
      "text/plain": [
       "ticket_id\n",
       "284932    0.057680\n",
       "285362    0.020298\n",
       "285361    0.062121\n",
       "285338    0.055008\n",
       "285346    0.062120\n",
       "285345    0.055009\n",
       "285347    0.065990\n",
       "285342    0.481184\n",
       "285530    0.018669\n",
       "284989    0.036749\n",
       "285344    0.065990\n",
       "285343    0.020297\n",
       "285340    0.020297\n",
       "285341    0.065990\n",
       "285349    0.057326\n",
       "285348    0.050734\n",
       "284991    0.036749\n",
       "285532    0.038018\n",
       "285406    0.038014\n",
       "285001    0.035770\n",
       "285006    0.010449\n",
       "285405    0.018667\n",
       "285337    0.036759\n",
       "285496    0.069186\n",
       "285497    0.057706\n",
       "285378    0.019617\n",
       "285589    0.035016\n",
       "285585    0.055019\n",
       "285501    0.065143\n",
       "285581    0.020301\n",
       "            ...   \n",
       "376367    0.014764\n",
       "376366    0.050012\n",
       "376362    0.348011\n",
       "376363    0.236119\n",
       "376365    0.014764\n",
       "376364    0.050012\n",
       "376228    0.052465\n",
       "376265    0.052467\n",
       "376286    0.293951\n",
       "376320    0.050010\n",
       "376314    0.050010\n",
       "376327    0.283567\n",
       "376385    0.283577\n",
       "376435    0.465377\n",
       "376370    0.496949\n",
       "376434    0.074343\n",
       "376459    0.070021\n",
       "376478    0.000134\n",
       "376473    0.052476\n",
       "376484    0.027414\n",
       "376482    0.019597\n",
       "376480    0.019597\n",
       "376479    0.019597\n",
       "376481    0.019597\n",
       "376483    0.026863\n",
       "376496    0.011286\n",
       "376497    0.011286\n",
       "376499    0.070023\n",
       "376500    0.070023\n",
       "369851    0.078346\n",
       "Name: compliance, dtype: float64"
      ]
     },
     "execution_count": 54,
     "metadata": {},
     "output_type": "execute_result"
    }
   ],
   "source": [
    "blight_model()"
   ]
  }
 ],
 "metadata": {
  "coursera": {
   "course_slug": "python-machine-learning",
   "graded_item_id": "nNS8l",
   "launcher_item_id": "yWWk7",
   "part_id": "w8BSS"
  },
  "kernelspec": {
   "display_name": "Python 3 (ipykernel)",
   "language": "python",
   "name": "python3"
  },
  "language_info": {
   "codemirror_mode": {
    "name": "ipython",
    "version": 3
   },
   "file_extension": ".py",
   "mimetype": "text/x-python",
   "name": "python",
   "nbconvert_exporter": "python",
   "pygments_lexer": "ipython3",
   "version": "3.7.10"
  }
 },
 "nbformat": 4,
 "nbformat_minor": 4
}
